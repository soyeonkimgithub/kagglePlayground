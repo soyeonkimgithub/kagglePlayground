{
 "cells": [
  {
   "cell_type": "code",
   "execution_count": 1,
   "id": "0976fbb0",
   "metadata": {
    "_cell_guid": "b1076dfc-b9ad-4769-8c92-a6c4dae69d19",
    "_uuid": "8f2839f25d086af736a60e9eeb907d3b93b6e0e5",
    "execution": {
     "iopub.execute_input": "2022-01-31T00:56:01.599901Z",
     "iopub.status.busy": "2022-01-31T00:56:01.599199Z",
     "iopub.status.idle": "2022-01-31T00:56:01.605638Z",
     "shell.execute_reply": "2022-01-31T00:56:01.604967Z",
     "shell.execute_reply.started": "2022-01-30T04:32:50.648555Z"
    },
    "papermill": {
     "duration": 0.056273,
     "end_time": "2022-01-31T00:56:01.605807",
     "exception": false,
     "start_time": "2022-01-31T00:56:01.549534",
     "status": "completed"
    },
    "tags": []
   },
   "outputs": [
    {
     "name": "stdout",
     "output_type": "stream",
     "text": [
      "/kaggle/input/tabular-playground-series-jan-2022/sample_submission.csv\n",
      "/kaggle/input/tabular-playground-series-jan-2022/train.csv\n",
      "/kaggle/input/tabular-playground-series-jan-2022/test.csv\n"
     ]
    }
   ],
   "source": [
    "# This Python 3 environment comes with many helpful analytics libraries installed\n",
    "# It is defined by the kaggle/python Docker image: https://github.com/kaggle/docker-python\n",
    "# For example, here's several helpful packages to load\n",
    "\n",
    "import numpy as np # linear algebra\n",
    "import pandas as pd # data processing, CSV file I/O (e.g. pd.read_csv)\n",
    "\n",
    "# Input data files are available in the read-only \"../input/\" directory\n",
    "# For example, running this (by clicking run or pressing Shift+Enter) will list all files under the input directory\n",
    "\n",
    "import os\n",
    "for dirname, _, filenames in os.walk('/kaggle/input'):\n",
    "    for filename in filenames:\n",
    "        print(os.path.join(dirname, filename))\n",
    "\n",
    "# You can write up to 20GB to the current directory (/kaggle/working/) that gets preserved as output when you create a version using \"Save & Run All\" \n",
    "# You can also write temporary files to /kaggle/temp/, but they won't be saved outside of the current session"
   ]
  },
  {
   "cell_type": "markdown",
   "id": "2c5913bb",
   "metadata": {
    "papermill": {
     "duration": 0.055201,
     "end_time": "2022-01-31T00:56:01.724078",
     "exception": false,
     "start_time": "2022-01-31T00:56:01.668877",
     "status": "completed"
    },
    "tags": []
   },
   "source": [
    "## Get data"
   ]
  },
  {
   "cell_type": "code",
   "execution_count": 2,
   "id": "d0f6f841",
   "metadata": {
    "execution": {
     "iopub.execute_input": "2022-01-31T00:56:01.810462Z",
     "iopub.status.busy": "2022-01-31T00:56:01.809779Z",
     "iopub.status.idle": "2022-01-31T00:56:02.855361Z",
     "shell.execute_reply": "2022-01-31T00:56:02.854758Z",
     "shell.execute_reply.started": "2022-01-30T04:32:50.681747Z"
    },
    "papermill": {
     "duration": 1.091146,
     "end_time": "2022-01-31T00:56:02.855519",
     "exception": false,
     "start_time": "2022-01-31T00:56:01.764373",
     "status": "completed"
    },
    "tags": []
   },
   "outputs": [],
   "source": [
    "import numpy as np \n",
    "import pandas as pd \n",
    "import os\n",
    "\n",
    "import matplotlib.pyplot as plt\n",
    "import seaborn as sns\n",
    "plt.style.use('seaborn')\n",
    "sns.set(font_scale=1.0)\n",
    "sns.set(style='darkgrid')\n",
    "\n",
    "import missingno as msno\n",
    "import time\n",
    "\n",
    "import warnings\n",
    "warnings.filterwarnings('ignore')\n",
    "\n",
    "%matplotlib inline\n",
    "\n",
    "from sklearn.ensemble import RandomForestClassifier\n",
    "from sklearn import metrics\n",
    "from sklearn.model_selection import train_test_split\n",
    "from sklearn.metrics import make_scorer"
   ]
  },
  {
   "cell_type": "code",
   "execution_count": 3,
   "id": "eaeb771a",
   "metadata": {
    "execution": {
     "iopub.execute_input": "2022-01-31T00:56:02.935755Z",
     "iopub.status.busy": "2022-01-31T00:56:02.935151Z",
     "iopub.status.idle": "2022-01-31T00:56:03.011972Z",
     "shell.execute_reply": "2022-01-31T00:56:03.012459Z",
     "shell.execute_reply.started": "2022-01-30T04:32:51.780705Z"
    },
    "papermill": {
     "duration": 0.119057,
     "end_time": "2022-01-31T00:56:03.012638",
     "exception": false,
     "start_time": "2022-01-31T00:56:02.893581",
     "status": "completed"
    },
    "tags": []
   },
   "outputs": [],
   "source": [
    "train = pd.read_csv(\"/kaggle/input/tabular-playground-series-jan-2022/train.csv\", parse_dates=[\"date\"])\n",
    "test = pd.read_csv(\"/kaggle/input/tabular-playground-series-jan-2022/test.csv\", parse_dates=[\"date\"])"
   ]
  },
  {
   "cell_type": "code",
   "execution_count": 4,
   "id": "17a504bb",
   "metadata": {
    "execution": {
     "iopub.execute_input": "2022-01-31T00:56:03.097858Z",
     "iopub.status.busy": "2022-01-31T00:56:03.097100Z",
     "iopub.status.idle": "2022-01-31T00:56:03.100276Z",
     "shell.execute_reply": "2022-01-31T00:56:03.100682Z",
     "shell.execute_reply.started": "2022-01-30T04:48:38.020289Z"
    },
    "papermill": {
     "duration": 0.048808,
     "end_time": "2022-01-31T00:56:03.100828",
     "exception": false,
     "start_time": "2022-01-31T00:56:03.052020",
     "status": "completed"
    },
    "tags": []
   },
   "outputs": [
    {
     "data": {
      "text/plain": [
       "(26298, 6)"
      ]
     },
     "execution_count": 4,
     "metadata": {},
     "output_type": "execute_result"
    }
   ],
   "source": [
    "train.shape"
   ]
  },
  {
   "cell_type": "code",
   "execution_count": 5,
   "id": "5b5919e0",
   "metadata": {
    "execution": {
     "iopub.execute_input": "2022-01-31T00:56:03.180341Z",
     "iopub.status.busy": "2022-01-31T00:56:03.179515Z",
     "iopub.status.idle": "2022-01-31T00:56:03.193110Z",
     "shell.execute_reply": "2022-01-31T00:56:03.192669Z",
     "shell.execute_reply.started": "2022-01-30T04:48:56.250163Z"
    },
    "papermill": {
     "duration": 0.05443,
     "end_time": "2022-01-31T00:56:03.193224",
     "exception": false,
     "start_time": "2022-01-31T00:56:03.138794",
     "status": "completed"
    },
    "tags": []
   },
   "outputs": [
    {
     "data": {
      "text/html": [
       "<div>\n",
       "<style scoped>\n",
       "    .dataframe tbody tr th:only-of-type {\n",
       "        vertical-align: middle;\n",
       "    }\n",
       "\n",
       "    .dataframe tbody tr th {\n",
       "        vertical-align: top;\n",
       "    }\n",
       "\n",
       "    .dataframe thead th {\n",
       "        text-align: right;\n",
       "    }\n",
       "</style>\n",
       "<table border=\"1\" class=\"dataframe\">\n",
       "  <thead>\n",
       "    <tr style=\"text-align: right;\">\n",
       "      <th></th>\n",
       "      <th>row_id</th>\n",
       "      <th>date</th>\n",
       "      <th>country</th>\n",
       "      <th>store</th>\n",
       "      <th>product</th>\n",
       "      <th>num_sold</th>\n",
       "    </tr>\n",
       "  </thead>\n",
       "  <tbody>\n",
       "    <tr>\n",
       "      <th>0</th>\n",
       "      <td>0</td>\n",
       "      <td>2015-01-01</td>\n",
       "      <td>Finland</td>\n",
       "      <td>KaggleMart</td>\n",
       "      <td>Kaggle Mug</td>\n",
       "      <td>329</td>\n",
       "    </tr>\n",
       "    <tr>\n",
       "      <th>1</th>\n",
       "      <td>1</td>\n",
       "      <td>2015-01-01</td>\n",
       "      <td>Finland</td>\n",
       "      <td>KaggleMart</td>\n",
       "      <td>Kaggle Hat</td>\n",
       "      <td>520</td>\n",
       "    </tr>\n",
       "    <tr>\n",
       "      <th>2</th>\n",
       "      <td>2</td>\n",
       "      <td>2015-01-01</td>\n",
       "      <td>Finland</td>\n",
       "      <td>KaggleMart</td>\n",
       "      <td>Kaggle Sticker</td>\n",
       "      <td>146</td>\n",
       "    </tr>\n",
       "    <tr>\n",
       "      <th>3</th>\n",
       "      <td>3</td>\n",
       "      <td>2015-01-01</td>\n",
       "      <td>Finland</td>\n",
       "      <td>KaggleRama</td>\n",
       "      <td>Kaggle Mug</td>\n",
       "      <td>572</td>\n",
       "    </tr>\n",
       "    <tr>\n",
       "      <th>4</th>\n",
       "      <td>4</td>\n",
       "      <td>2015-01-01</td>\n",
       "      <td>Finland</td>\n",
       "      <td>KaggleRama</td>\n",
       "      <td>Kaggle Hat</td>\n",
       "      <td>911</td>\n",
       "    </tr>\n",
       "  </tbody>\n",
       "</table>\n",
       "</div>"
      ],
      "text/plain": [
       "   row_id       date  country       store         product  num_sold\n",
       "0       0 2015-01-01  Finland  KaggleMart      Kaggle Mug       329\n",
       "1       1 2015-01-01  Finland  KaggleMart      Kaggle Hat       520\n",
       "2       2 2015-01-01  Finland  KaggleMart  Kaggle Sticker       146\n",
       "3       3 2015-01-01  Finland  KaggleRama      Kaggle Mug       572\n",
       "4       4 2015-01-01  Finland  KaggleRama      Kaggle Hat       911"
      ]
     },
     "execution_count": 5,
     "metadata": {},
     "output_type": "execute_result"
    }
   ],
   "source": [
    "train.head()"
   ]
  },
  {
   "cell_type": "code",
   "execution_count": 6,
   "id": "60ada17f",
   "metadata": {
    "execution": {
     "iopub.execute_input": "2022-01-31T00:56:03.274166Z",
     "iopub.status.busy": "2022-01-31T00:56:03.273369Z",
     "iopub.status.idle": "2022-01-31T00:56:03.286810Z",
     "shell.execute_reply": "2022-01-31T00:56:03.286376Z",
     "shell.execute_reply.started": "2022-01-30T04:48:58.089751Z"
    },
    "papermill": {
     "duration": 0.055229,
     "end_time": "2022-01-31T00:56:03.286928",
     "exception": false,
     "start_time": "2022-01-31T00:56:03.231699",
     "status": "completed"
    },
    "tags": []
   },
   "outputs": [
    {
     "data": {
      "text/html": [
       "<div>\n",
       "<style scoped>\n",
       "    .dataframe tbody tr th:only-of-type {\n",
       "        vertical-align: middle;\n",
       "    }\n",
       "\n",
       "    .dataframe tbody tr th {\n",
       "        vertical-align: top;\n",
       "    }\n",
       "\n",
       "    .dataframe thead th {\n",
       "        text-align: right;\n",
       "    }\n",
       "</style>\n",
       "<table border=\"1\" class=\"dataframe\">\n",
       "  <thead>\n",
       "    <tr style=\"text-align: right;\">\n",
       "      <th></th>\n",
       "      <th>date</th>\n",
       "      <th>country</th>\n",
       "      <th>store</th>\n",
       "      <th>product</th>\n",
       "      <th>num_sold</th>\n",
       "    </tr>\n",
       "  </thead>\n",
       "  <tbody>\n",
       "    <tr>\n",
       "      <th>0</th>\n",
       "      <td>2015-01-01</td>\n",
       "      <td>Finland</td>\n",
       "      <td>KaggleMart</td>\n",
       "      <td>Kaggle Mug</td>\n",
       "      <td>329</td>\n",
       "    </tr>\n",
       "    <tr>\n",
       "      <th>1</th>\n",
       "      <td>2015-01-01</td>\n",
       "      <td>Finland</td>\n",
       "      <td>KaggleMart</td>\n",
       "      <td>Kaggle Hat</td>\n",
       "      <td>520</td>\n",
       "    </tr>\n",
       "    <tr>\n",
       "      <th>2</th>\n",
       "      <td>2015-01-01</td>\n",
       "      <td>Finland</td>\n",
       "      <td>KaggleMart</td>\n",
       "      <td>Kaggle Sticker</td>\n",
       "      <td>146</td>\n",
       "    </tr>\n",
       "    <tr>\n",
       "      <th>3</th>\n",
       "      <td>2015-01-01</td>\n",
       "      <td>Finland</td>\n",
       "      <td>KaggleRama</td>\n",
       "      <td>Kaggle Mug</td>\n",
       "      <td>572</td>\n",
       "    </tr>\n",
       "    <tr>\n",
       "      <th>4</th>\n",
       "      <td>2015-01-01</td>\n",
       "      <td>Finland</td>\n",
       "      <td>KaggleRama</td>\n",
       "      <td>Kaggle Hat</td>\n",
       "      <td>911</td>\n",
       "    </tr>\n",
       "  </tbody>\n",
       "</table>\n",
       "</div>"
      ],
      "text/plain": [
       "        date  country       store         product  num_sold\n",
       "0 2015-01-01  Finland  KaggleMart      Kaggle Mug       329\n",
       "1 2015-01-01  Finland  KaggleMart      Kaggle Hat       520\n",
       "2 2015-01-01  Finland  KaggleMart  Kaggle Sticker       146\n",
       "3 2015-01-01  Finland  KaggleRama      Kaggle Mug       572\n",
       "4 2015-01-01  Finland  KaggleRama      Kaggle Hat       911"
      ]
     },
     "execution_count": 6,
     "metadata": {},
     "output_type": "execute_result"
    }
   ],
   "source": [
    "train = train.drop(\"row_id\", axis=1)\n",
    "train.head()"
   ]
  },
  {
   "cell_type": "code",
   "execution_count": 7,
   "id": "ca79f742",
   "metadata": {
    "execution": {
     "iopub.execute_input": "2022-01-31T00:56:03.368095Z",
     "iopub.status.busy": "2022-01-31T00:56:03.367435Z",
     "iopub.status.idle": "2022-01-31T00:56:03.370015Z",
     "shell.execute_reply": "2022-01-31T00:56:03.370444Z",
     "shell.execute_reply.started": "2022-01-30T04:49:00.533466Z"
    },
    "papermill": {
     "duration": 0.045288,
     "end_time": "2022-01-31T00:56:03.370561",
     "exception": false,
     "start_time": "2022-01-31T00:56:03.325273",
     "status": "completed"
    },
    "tags": []
   },
   "outputs": [
    {
     "data": {
      "text/plain": [
       "(6570, 5)"
      ]
     },
     "execution_count": 7,
     "metadata": {},
     "output_type": "execute_result"
    }
   ],
   "source": [
    "test.shape"
   ]
  },
  {
   "cell_type": "code",
   "execution_count": 8,
   "id": "9b2741e2",
   "metadata": {
    "execution": {
     "iopub.execute_input": "2022-01-31T00:56:03.462389Z",
     "iopub.status.busy": "2022-01-31T00:56:03.461594Z",
     "iopub.status.idle": "2022-01-31T00:56:03.471570Z",
     "shell.execute_reply": "2022-01-31T00:56:03.472621Z",
     "shell.execute_reply.started": "2022-01-30T04:49:02.750537Z"
    },
    "papermill": {
     "duration": 0.063686,
     "end_time": "2022-01-31T00:56:03.472808",
     "exception": false,
     "start_time": "2022-01-31T00:56:03.409122",
     "status": "completed"
    },
    "tags": []
   },
   "outputs": [
    {
     "data": {
      "text/html": [
       "<div>\n",
       "<style scoped>\n",
       "    .dataframe tbody tr th:only-of-type {\n",
       "        vertical-align: middle;\n",
       "    }\n",
       "\n",
       "    .dataframe tbody tr th {\n",
       "        vertical-align: top;\n",
       "    }\n",
       "\n",
       "    .dataframe thead th {\n",
       "        text-align: right;\n",
       "    }\n",
       "</style>\n",
       "<table border=\"1\" class=\"dataframe\">\n",
       "  <thead>\n",
       "    <tr style=\"text-align: right;\">\n",
       "      <th></th>\n",
       "      <th>date</th>\n",
       "      <th>country</th>\n",
       "      <th>store</th>\n",
       "      <th>product</th>\n",
       "    </tr>\n",
       "  </thead>\n",
       "  <tbody>\n",
       "    <tr>\n",
       "      <th>0</th>\n",
       "      <td>2019-01-01</td>\n",
       "      <td>Finland</td>\n",
       "      <td>KaggleMart</td>\n",
       "      <td>Kaggle Mug</td>\n",
       "    </tr>\n",
       "    <tr>\n",
       "      <th>1</th>\n",
       "      <td>2019-01-01</td>\n",
       "      <td>Finland</td>\n",
       "      <td>KaggleMart</td>\n",
       "      <td>Kaggle Hat</td>\n",
       "    </tr>\n",
       "    <tr>\n",
       "      <th>2</th>\n",
       "      <td>2019-01-01</td>\n",
       "      <td>Finland</td>\n",
       "      <td>KaggleMart</td>\n",
       "      <td>Kaggle Sticker</td>\n",
       "    </tr>\n",
       "    <tr>\n",
       "      <th>3</th>\n",
       "      <td>2019-01-01</td>\n",
       "      <td>Finland</td>\n",
       "      <td>KaggleRama</td>\n",
       "      <td>Kaggle Mug</td>\n",
       "    </tr>\n",
       "    <tr>\n",
       "      <th>4</th>\n",
       "      <td>2019-01-01</td>\n",
       "      <td>Finland</td>\n",
       "      <td>KaggleRama</td>\n",
       "      <td>Kaggle Hat</td>\n",
       "    </tr>\n",
       "  </tbody>\n",
       "</table>\n",
       "</div>"
      ],
      "text/plain": [
       "        date  country       store         product\n",
       "0 2019-01-01  Finland  KaggleMart      Kaggle Mug\n",
       "1 2019-01-01  Finland  KaggleMart      Kaggle Hat\n",
       "2 2019-01-01  Finland  KaggleMart  Kaggle Sticker\n",
       "3 2019-01-01  Finland  KaggleRama      Kaggle Mug\n",
       "4 2019-01-01  Finland  KaggleRama      Kaggle Hat"
      ]
     },
     "execution_count": 8,
     "metadata": {},
     "output_type": "execute_result"
    }
   ],
   "source": [
    "test = test.drop(\"row_id\", axis=1)\n",
    "test.head()"
   ]
  },
  {
   "cell_type": "code",
   "execution_count": 9,
   "id": "aea2e781",
   "metadata": {
    "execution": {
     "iopub.execute_input": "2022-01-31T00:56:03.637152Z",
     "iopub.status.busy": "2022-01-31T00:56:03.636364Z",
     "iopub.status.idle": "2022-01-31T00:56:03.661881Z",
     "shell.execute_reply": "2022-01-31T00:56:03.662930Z",
     "shell.execute_reply.started": "2022-01-30T04:49:11.658599Z"
    },
    "papermill": {
     "duration": 0.110174,
     "end_time": "2022-01-31T00:56:03.663112",
     "exception": false,
     "start_time": "2022-01-31T00:56:03.552938",
     "status": "completed"
    },
    "tags": []
   },
   "outputs": [
    {
     "name": "stdout",
     "output_type": "stream",
     "text": [
      "<class 'pandas.core.frame.DataFrame'>\n",
      "RangeIndex: 26298 entries, 0 to 26297\n",
      "Data columns (total 5 columns):\n",
      " #   Column    Non-Null Count  Dtype         \n",
      "---  ------    --------------  -----         \n",
      " 0   date      26298 non-null  datetime64[ns]\n",
      " 1   country   26298 non-null  object        \n",
      " 2   store     26298 non-null  object        \n",
      " 3   product   26298 non-null  object        \n",
      " 4   num_sold  26298 non-null  int64         \n",
      "dtypes: datetime64[ns](1), int64(1), object(3)\n",
      "memory usage: 1.0+ MB\n"
     ]
    }
   ],
   "source": [
    "train.info()"
   ]
  },
  {
   "cell_type": "code",
   "execution_count": 10,
   "id": "afd0ee6c",
   "metadata": {
    "execution": {
     "iopub.execute_input": "2022-01-31T00:56:03.803471Z",
     "iopub.status.busy": "2022-01-31T00:56:03.802715Z",
     "iopub.status.idle": "2022-01-31T00:56:03.807601Z",
     "shell.execute_reply": "2022-01-31T00:56:03.808551Z",
     "shell.execute_reply.started": "2022-01-30T04:49:25.993974Z"
    },
    "papermill": {
     "duration": 0.078243,
     "end_time": "2022-01-31T00:56:03.808753",
     "exception": false,
     "start_time": "2022-01-31T00:56:03.730510",
     "status": "completed"
    },
    "tags": []
   },
   "outputs": [
    {
     "data": {
      "text/plain": [
       "array(['KaggleMart', 'KaggleRama'], dtype=object)"
      ]
     },
     "execution_count": 10,
     "metadata": {},
     "output_type": "execute_result"
    }
   ],
   "source": [
    "train.store.unique()"
   ]
  },
  {
   "cell_type": "code",
   "execution_count": 11,
   "id": "ffd9e8f9",
   "metadata": {
    "execution": {
     "iopub.execute_input": "2022-01-31T00:56:03.947033Z",
     "iopub.status.busy": "2022-01-31T00:56:03.946323Z",
     "iopub.status.idle": "2022-01-31T00:56:03.954017Z",
     "shell.execute_reply": "2022-01-31T00:56:03.952878Z",
     "shell.execute_reply.started": "2022-01-30T04:49:33.517875Z"
    },
    "papermill": {
     "duration": 0.078406,
     "end_time": "2022-01-31T00:56:03.954165",
     "exception": false,
     "start_time": "2022-01-31T00:56:03.875759",
     "status": "completed"
    },
    "tags": []
   },
   "outputs": [
    {
     "data": {
      "text/plain": [
       "array(['Finland', 'Norway', 'Sweden'], dtype=object)"
      ]
     },
     "execution_count": 11,
     "metadata": {},
     "output_type": "execute_result"
    }
   ],
   "source": [
    "train.country.unique()"
   ]
  },
  {
   "cell_type": "code",
   "execution_count": 12,
   "id": "ca37b7bc",
   "metadata": {
    "execution": {
     "iopub.execute_input": "2022-01-31T00:56:04.072833Z",
     "iopub.status.busy": "2022-01-31T00:56:04.069389Z",
     "iopub.status.idle": "2022-01-31T00:56:04.082604Z",
     "shell.execute_reply": "2022-01-31T00:56:04.083205Z",
     "shell.execute_reply.started": "2022-01-30T04:52:36.324254Z"
    },
    "papermill": {
     "duration": 0.062678,
     "end_time": "2022-01-31T00:56:04.083366",
     "exception": false,
     "start_time": "2022-01-31T00:56:04.020688",
     "status": "completed"
    },
    "tags": []
   },
   "outputs": [
    {
     "name": "stdout",
     "output_type": "stream",
     "text": [
      "column:       date\t Percent of NAN value: 0.00%\n",
      "column:    country\t Percent of NAN value: 0.00%\n",
      "column:      store\t Percent of NAN value: 0.00%\n",
      "column:    product\t Percent of NAN value: 0.00%\n",
      "column:   num_sold\t Percent of NAN value: 0.00%\n"
     ]
    }
   ],
   "source": [
    "for col in train.columns:\n",
    "    msg = 'column: {:>10}\\t Percent of NAN value: {:.2f}%'.format(col, 100 * (train[col].isnull().sum()/train[col].shape[0]))\n",
    "    print(msg)"
   ]
  },
  {
   "cell_type": "code",
   "execution_count": 13,
   "id": "eeea0f9e",
   "metadata": {
    "execution": {
     "iopub.execute_input": "2022-01-31T00:56:04.171924Z",
     "iopub.status.busy": "2022-01-31T00:56:04.171174Z",
     "iopub.status.idle": "2022-01-31T00:56:04.194321Z",
     "shell.execute_reply": "2022-01-31T00:56:04.193856Z",
     "shell.execute_reply.started": "2022-01-30T05:40:31.904670Z"
    },
    "papermill": {
     "duration": 0.069709,
     "end_time": "2022-01-31T00:56:04.194423",
     "exception": false,
     "start_time": "2022-01-31T00:56:04.124714",
     "status": "completed"
    },
    "tags": []
   },
   "outputs": [
    {
     "data": {
      "text/plain": [
       "(26298, 8)"
      ]
     },
     "execution_count": 13,
     "metadata": {},
     "output_type": "execute_result"
    }
   ],
   "source": [
    "train[\"year\"] = train[\"date\"].dt.year\n",
    "train[\"month\"] = train[\"date\"].dt.month\n",
    "train[\"day\"] = train[\"date\"].dt.day\n",
    "train[\"season\"] = np.where(train[\"month\"].isin([3,4,5]), \"spring\", \n",
    "                    np.where(train[\"month\"].isin([6,7,8]), \"summer\", \n",
    "                    np.where(train[\"month\"].isin([9,10,11]), \"autumn\", \n",
    "                    np.where(train[\"month\"].isin([12,1,2]), \"winter\", \"none\"))))\n",
    "train = train.drop(\"date\", axis=1)\n",
    "train.shape"
   ]
  },
  {
   "cell_type": "code",
   "execution_count": 14,
   "id": "fcc946b2",
   "metadata": {
    "execution": {
     "iopub.execute_input": "2022-01-31T00:56:04.284978Z",
     "iopub.status.busy": "2022-01-31T00:56:04.284133Z",
     "iopub.status.idle": "2022-01-31T00:56:04.296423Z",
     "shell.execute_reply": "2022-01-31T00:56:04.296000Z",
     "shell.execute_reply.started": "2022-01-30T05:40:41.689097Z"
    },
    "papermill": {
     "duration": 0.060946,
     "end_time": "2022-01-31T00:56:04.296542",
     "exception": false,
     "start_time": "2022-01-31T00:56:04.235596",
     "status": "completed"
    },
    "tags": []
   },
   "outputs": [
    {
     "data": {
      "text/plain": [
       "(6570, 7)"
      ]
     },
     "execution_count": 14,
     "metadata": {},
     "output_type": "execute_result"
    }
   ],
   "source": [
    "test[\"year\"] = test[\"date\"].dt.year\n",
    "test[\"month\"] = test[\"date\"].dt.month\n",
    "test[\"day\"] = test[\"date\"].dt.day\n",
    "test[\"season\"] = np.where(test[\"month\"].isin([3,4,5]), \"spring\", \n",
    "                    np.where(test[\"month\"].isin([6,7,8]), \"summer\", \n",
    "                    np.where(test[\"month\"].isin([9,10,11]), \"autumn\", \n",
    "                    np.where(test[\"month\"].isin([12,1,2]), \"winter\", \"none\"))))\n",
    "test = test.drop(\"date\", axis=1)\n",
    "test.shape"
   ]
  },
  {
   "cell_type": "code",
   "execution_count": 15,
   "id": "6ac736ff",
   "metadata": {
    "execution": {
     "iopub.execute_input": "2022-01-31T00:56:04.386005Z",
     "iopub.status.busy": "2022-01-31T00:56:04.385127Z",
     "iopub.status.idle": "2022-01-31T00:56:04.672165Z",
     "shell.execute_reply": "2022-01-31T00:56:04.672990Z",
     "shell.execute_reply.started": "2022-01-30T04:51:35.002283Z"
    },
    "papermill": {
     "duration": 0.334378,
     "end_time": "2022-01-31T00:56:04.673153",
     "exception": false,
     "start_time": "2022-01-31T00:56:04.338775",
     "status": "completed"
    },
    "tags": []
   },
   "outputs": [
    {
     "data": {
      "text/plain": [
       "(array([1.4779e+04, 7.4220e+03, 2.7990e+03, 9.1100e+02, 2.6700e+02,\n",
       "        8.3000e+01, 2.3000e+01, 1.0000e+01, 1.0000e+00, 3.0000e+00]),\n",
       " array([  70. ,  351.4,  632.8,  914.2, 1195.6, 1477. , 1758.4, 2039.8,\n",
       "        2321.2, 2602.6, 2884. ]),\n",
       " <BarContainer object of 10 artists>)"
      ]
     },
     "execution_count": 15,
     "metadata": {},
     "output_type": "execute_result"
    },
    {
     "data": {
      "image/png": "[encoded data removed]",
      "text/plain": [
       "<Figure size 720x360 with 1 Axes>"
      ]
     },
     "metadata": {
      "needs_background": "light"
     },
     "output_type": "display_data"
    }
   ],
   "source": [
    "plt.figure(figsize=(10,5)) \n",
    "plt.hist(train['num_sold'])"
   ]
  },
  {
   "cell_type": "code",
   "execution_count": 16,
   "id": "c5e8bea0",
   "metadata": {
    "execution": {
     "iopub.execute_input": "2022-01-31T00:56:04.770477Z",
     "iopub.status.busy": "2022-01-31T00:56:04.769776Z",
     "iopub.status.idle": "2022-01-31T00:56:05.129570Z",
     "shell.execute_reply": "2022-01-31T00:56:05.129169Z",
     "shell.execute_reply.started": "2022-01-30T05:07:22.022755Z"
    },
    "papermill": {
     "duration": 0.412917,
     "end_time": "2022-01-31T00:56:05.129747",
     "exception": false,
     "start_time": "2022-01-31T00:56:04.716830",
     "status": "completed"
    },
    "tags": []
   },
   "outputs": [
    {
     "data": {
      "image/png": "[encoded data removed]",
      "text/plain": [
       "<Figure size 432x288 with 1 Axes>"
      ]
     },
     "metadata": {
      "needs_background": "light"
     },
     "output_type": "display_data"
    }
   ],
   "source": [
    "ax = sns.barplot(x='store', y='num_sold', data=train)"
   ]
  },
  {
   "cell_type": "code",
   "execution_count": 17,
   "id": "04b3e48b",
   "metadata": {
    "execution": {
     "iopub.execute_input": "2022-01-31T00:56:05.227635Z",
     "iopub.status.busy": "2022-01-31T00:56:05.226790Z",
     "iopub.status.idle": "2022-01-31T00:56:05.626548Z",
     "shell.execute_reply": "2022-01-31T00:56:05.626125Z",
     "shell.execute_reply.started": "2022-01-30T05:17:56.923675Z"
    },
    "papermill": {
     "duration": 0.452807,
     "end_time": "2022-01-31T00:56:05.626696",
     "exception": false,
     "start_time": "2022-01-31T00:56:05.173889",
     "status": "completed"
    },
    "tags": []
   },
   "outputs": [
    {
     "data": {
      "image/png": "[encoded data removed]",
      "text/plain": [
       "<Figure size 432x288 with 1 Axes>"
      ]
     },
     "metadata": {
      "needs_background": "light"
     },
     "output_type": "display_data"
    }
   ],
   "source": [
    "ax = sns.barplot(x='product', y='num_sold', data=train)"
   ]
  },
  {
   "cell_type": "code",
   "execution_count": 18,
   "id": "32031dd1",
   "metadata": {
    "execution": {
     "iopub.execute_input": "2022-01-31T00:56:05.730142Z",
     "iopub.status.busy": "2022-01-31T00:56:05.729315Z",
     "iopub.status.idle": "2022-01-31T00:56:06.123598Z",
     "shell.execute_reply": "2022-01-31T00:56:06.123117Z",
     "shell.execute_reply.started": "2022-01-30T05:18:06.474862Z"
    },
    "papermill": {
     "duration": 0.451823,
     "end_time": "2022-01-31T00:56:06.123810",
     "exception": false,
     "start_time": "2022-01-31T00:56:05.671987",
     "status": "completed"
    },
    "tags": []
   },
   "outputs": [
    {
     "data": {
      "image/png": "[encoded data removed]",
      "text/plain": [
       "<Figure size 432x288 with 1 Axes>"
      ]
     },
     "metadata": {
      "needs_background": "light"
     },
     "output_type": "display_data"
    }
   ],
   "source": [
    "ax = sns.barplot(x='country', y='num_sold', data=train)"
   ]
  },
  {
   "cell_type": "code",
   "execution_count": 19,
   "id": "9ea1e814",
   "metadata": {
    "execution": {
     "iopub.execute_input": "2022-01-31T00:56:06.224883Z",
     "iopub.status.busy": "2022-01-31T00:56:06.224091Z",
     "iopub.status.idle": "2022-01-31T00:56:06.647391Z",
     "shell.execute_reply": "2022-01-31T00:56:06.648045Z",
     "shell.execute_reply.started": "2022-01-30T05:18:13.639479Z"
    },
    "papermill": {
     "duration": 0.479647,
     "end_time": "2022-01-31T00:56:06.648194",
     "exception": false,
     "start_time": "2022-01-31T00:56:06.168547",
     "status": "completed"
    },
    "tags": []
   },
   "outputs": [
    {
     "data": {
      "image/png": "[encoded data removed]",
      "text/plain": [
       "<Figure size 432x288 with 1 Axes>"
      ]
     },
     "metadata": {
      "needs_background": "light"
     },
     "output_type": "display_data"
    }
   ],
   "source": [
    "ax = sns.barplot(x='season', y='num_sold', data=train)"
   ]
  },
  {
   "cell_type": "code",
   "execution_count": 20,
   "id": "159b3110",
   "metadata": {
    "execution": {
     "iopub.execute_input": "2022-01-31T00:56:06.746928Z",
     "iopub.status.busy": "2022-01-31T00:56:06.745346Z",
     "iopub.status.idle": "2022-01-31T00:56:07.470113Z",
     "shell.execute_reply": "2022-01-31T00:56:07.469449Z",
     "shell.execute_reply.started": "2022-01-30T05:18:43.795484Z"
    },
    "papermill": {
     "duration": 0.776846,
     "end_time": "2022-01-31T00:56:07.470239",
     "exception": false,
     "start_time": "2022-01-31T00:56:06.693393",
     "status": "completed"
    },
    "tags": []
   },
   "outputs": [
    {
     "data": {
      "image/png": "[encoded data removed]",
      "text/plain": [
       "<Figure size 432x288 with 1 Axes>"
      ]
     },
     "metadata": {
      "needs_background": "light"
     },
     "output_type": "display_data"
    }
   ],
   "source": [
    "ax = sns.barplot(x='month', y='num_sold', data=train)"
   ]
  },
  {
   "cell_type": "code",
   "execution_count": 21,
   "id": "54ab73e6",
   "metadata": {
    "execution": {
     "iopub.execute_input": "2022-01-31T00:56:07.565798Z",
     "iopub.status.busy": "2022-01-31T00:56:07.565003Z",
     "iopub.status.idle": "2022-01-31T00:56:07.567404Z",
     "shell.execute_reply": "2022-01-31T00:56:07.566971Z",
     "shell.execute_reply.started": "2022-01-30T05:22:14.099315Z"
    },
    "papermill": {
     "duration": 0.051809,
     "end_time": "2022-01-31T00:56:07.567510",
     "exception": false,
     "start_time": "2022-01-31T00:56:07.515701",
     "status": "completed"
    },
    "tags": []
   },
   "outputs": [],
   "source": [
    "cleanup_nums = {\"country\": {\"Finland\": 1, \"Norway\": 2, \"Sweden\":3},\n",
    "                \"store\":   {\"KaggleMart\": 1, \"KaggleRama\": 2},\n",
    "                \"product\": {\"Kaggle Hat\": 1, \"Kaggle Mug\": 2, \"Kaggle Sticker\": 3},\n",
    "                \"season\" : {\"spring\":1, \"summer\":2, \"autumn\":3, \"winter\":4, \"none\":5}\n",
    "               }"
   ]
  },
  {
   "cell_type": "code",
   "execution_count": 22,
   "id": "268508f5",
   "metadata": {
    "execution": {
     "iopub.execute_input": "2022-01-31T00:56:07.662683Z",
     "iopub.status.busy": "2022-01-31T00:56:07.661939Z",
     "iopub.status.idle": "2022-01-31T00:56:07.735899Z",
     "shell.execute_reply": "2022-01-31T00:56:07.736318Z",
     "shell.execute_reply.started": "2022-01-30T05:40:50.693886Z"
    },
    "papermill": {
     "duration": 0.123862,
     "end_time": "2022-01-31T00:56:07.736456",
     "exception": false,
     "start_time": "2022-01-31T00:56:07.612594",
     "status": "completed"
    },
    "tags": []
   },
   "outputs": [
    {
     "data": {
      "text/html": [
       "<div>\n",
       "<style scoped>\n",
       "    .dataframe tbody tr th:only-of-type {\n",
       "        vertical-align: middle;\n",
       "    }\n",
       "\n",
       "    .dataframe tbody tr th {\n",
       "        vertical-align: top;\n",
       "    }\n",
       "\n",
       "    .dataframe thead th {\n",
       "        text-align: right;\n",
       "    }\n",
       "</style>\n",
       "<table border=\"1\" class=\"dataframe\">\n",
       "  <thead>\n",
       "    <tr style=\"text-align: right;\">\n",
       "      <th></th>\n",
       "      <th>country</th>\n",
       "      <th>store</th>\n",
       "      <th>product</th>\n",
       "      <th>num_sold</th>\n",
       "      <th>year</th>\n",
       "      <th>month</th>\n",
       "      <th>day</th>\n",
       "      <th>season</th>\n",
       "    </tr>\n",
       "  </thead>\n",
       "  <tbody>\n",
       "    <tr>\n",
       "      <th>0</th>\n",
       "      <td>1</td>\n",
       "      <td>1</td>\n",
       "      <td>2</td>\n",
       "      <td>329</td>\n",
       "      <td>2015</td>\n",
       "      <td>1</td>\n",
       "      <td>1</td>\n",
       "      <td>4</td>\n",
       "    </tr>\n",
       "    <tr>\n",
       "      <th>1</th>\n",
       "      <td>1</td>\n",
       "      <td>1</td>\n",
       "      <td>1</td>\n",
       "      <td>520</td>\n",
       "      <td>2015</td>\n",
       "      <td>1</td>\n",
       "      <td>1</td>\n",
       "      <td>4</td>\n",
       "    </tr>\n",
       "    <tr>\n",
       "      <th>2</th>\n",
       "      <td>1</td>\n",
       "      <td>1</td>\n",
       "      <td>3</td>\n",
       "      <td>146</td>\n",
       "      <td>2015</td>\n",
       "      <td>1</td>\n",
       "      <td>1</td>\n",
       "      <td>4</td>\n",
       "    </tr>\n",
       "    <tr>\n",
       "      <th>3</th>\n",
       "      <td>1</td>\n",
       "      <td>2</td>\n",
       "      <td>2</td>\n",
       "      <td>572</td>\n",
       "      <td>2015</td>\n",
       "      <td>1</td>\n",
       "      <td>1</td>\n",
       "      <td>4</td>\n",
       "    </tr>\n",
       "    <tr>\n",
       "      <th>4</th>\n",
       "      <td>1</td>\n",
       "      <td>2</td>\n",
       "      <td>1</td>\n",
       "      <td>911</td>\n",
       "      <td>2015</td>\n",
       "      <td>1</td>\n",
       "      <td>1</td>\n",
       "      <td>4</td>\n",
       "    </tr>\n",
       "  </tbody>\n",
       "</table>\n",
       "</div>"
      ],
      "text/plain": [
       "   country  store  product  num_sold  year  month  day  season\n",
       "0        1      1        2       329  2015      1    1       4\n",
       "1        1      1        1       520  2015      1    1       4\n",
       "2        1      1        3       146  2015      1    1       4\n",
       "3        1      2        2       572  2015      1    1       4\n",
       "4        1      2        1       911  2015      1    1       4"
      ]
     },
     "execution_count": 22,
     "metadata": {},
     "output_type": "execute_result"
    }
   ],
   "source": [
    "train = train.replace(cleanup_nums)\n",
    "train.head()"
   ]
  },
  {
   "cell_type": "code",
   "execution_count": 23,
   "id": "a8d6f925",
   "metadata": {
    "execution": {
     "iopub.execute_input": "2022-01-31T00:56:07.835213Z",
     "iopub.status.busy": "2022-01-31T00:56:07.833300Z",
     "iopub.status.idle": "2022-01-31T00:56:07.860976Z",
     "shell.execute_reply": "2022-01-31T00:56:07.860226Z",
     "shell.execute_reply.started": "2022-01-30T05:45:54.400403Z"
    },
    "papermill": {
     "duration": 0.079248,
     "end_time": "2022-01-31T00:56:07.861092",
     "exception": false,
     "start_time": "2022-01-31T00:56:07.781844",
     "status": "completed"
    },
    "tags": []
   },
   "outputs": [
    {
     "data": {
      "text/html": [
       "<div>\n",
       "<style scoped>\n",
       "    .dataframe tbody tr th:only-of-type {\n",
       "        vertical-align: middle;\n",
       "    }\n",
       "\n",
       "    .dataframe tbody tr th {\n",
       "        vertical-align: top;\n",
       "    }\n",
       "\n",
       "    .dataframe thead th {\n",
       "        text-align: right;\n",
       "    }\n",
       "</style>\n",
       "<table border=\"1\" class=\"dataframe\">\n",
       "  <thead>\n",
       "    <tr style=\"text-align: right;\">\n",
       "      <th></th>\n",
       "      <th>country</th>\n",
       "      <th>store</th>\n",
       "      <th>product</th>\n",
       "      <th>year</th>\n",
       "      <th>month</th>\n",
       "      <th>day</th>\n",
       "      <th>season</th>\n",
       "    </tr>\n",
       "  </thead>\n",
       "  <tbody>\n",
       "    <tr>\n",
       "      <th>0</th>\n",
       "      <td>1</td>\n",
       "      <td>1</td>\n",
       "      <td>2</td>\n",
       "      <td>2019</td>\n",
       "      <td>1</td>\n",
       "      <td>1</td>\n",
       "      <td>4</td>\n",
       "    </tr>\n",
       "    <tr>\n",
       "      <th>1</th>\n",
       "      <td>1</td>\n",
       "      <td>1</td>\n",
       "      <td>1</td>\n",
       "      <td>2019</td>\n",
       "      <td>1</td>\n",
       "      <td>1</td>\n",
       "      <td>4</td>\n",
       "    </tr>\n",
       "    <tr>\n",
       "      <th>2</th>\n",
       "      <td>1</td>\n",
       "      <td>1</td>\n",
       "      <td>3</td>\n",
       "      <td>2019</td>\n",
       "      <td>1</td>\n",
       "      <td>1</td>\n",
       "      <td>4</td>\n",
       "    </tr>\n",
       "    <tr>\n",
       "      <th>3</th>\n",
       "      <td>1</td>\n",
       "      <td>2</td>\n",
       "      <td>2</td>\n",
       "      <td>2019</td>\n",
       "      <td>1</td>\n",
       "      <td>1</td>\n",
       "      <td>4</td>\n",
       "    </tr>\n",
       "    <tr>\n",
       "      <th>4</th>\n",
       "      <td>1</td>\n",
       "      <td>2</td>\n",
       "      <td>1</td>\n",
       "      <td>2019</td>\n",
       "      <td>1</td>\n",
       "      <td>1</td>\n",
       "      <td>4</td>\n",
       "    </tr>\n",
       "  </tbody>\n",
       "</table>\n",
       "</div>"
      ],
      "text/plain": [
       "   country  store  product  year  month  day  season\n",
       "0        1      1        2  2019      1    1       4\n",
       "1        1      1        1  2019      1    1       4\n",
       "2        1      1        3  2019      1    1       4\n",
       "3        1      2        2  2019      1    1       4\n",
       "4        1      2        1  2019      1    1       4"
      ]
     },
     "execution_count": 23,
     "metadata": {},
     "output_type": "execute_result"
    }
   ],
   "source": [
    "test = test.replace(cleanup_nums)\n",
    "test.head()"
   ]
  },
  {
   "cell_type": "code",
   "execution_count": 24,
   "id": "020e9dab",
   "metadata": {
    "execution": {
     "iopub.execute_input": "2022-01-31T00:56:07.959229Z",
     "iopub.status.busy": "2022-01-31T00:56:07.958421Z",
     "iopub.status.idle": "2022-01-31T00:56:07.966182Z",
     "shell.execute_reply": "2022-01-31T00:56:07.965752Z",
     "shell.execute_reply.started": "2022-01-30T05:22:58.735466Z"
    },
    "papermill": {
     "duration": 0.059192,
     "end_time": "2022-01-31T00:56:07.966286",
     "exception": false,
     "start_time": "2022-01-31T00:56:07.907094",
     "status": "completed"
    },
    "tags": []
   },
   "outputs": [],
   "source": [
    "# continous features vs categorical features\n",
    "categorical_feature_names = [\"country\", \"store\", \"product\", \"season\"]\n",
    "for var in categorical_feature_names:\n",
    "    train[var] = train[var].astype(\"category\")\n",
    "    test[var] = test[var].astype(\"category\")"
   ]
  },
  {
   "cell_type": "code",
   "execution_count": 25,
   "id": "96d16089",
   "metadata": {
    "execution": {
     "iopub.execute_input": "2022-01-31T00:56:08.061902Z",
     "iopub.status.busy": "2022-01-31T00:56:08.061108Z",
     "iopub.status.idle": "2022-01-31T00:56:08.072208Z",
     "shell.execute_reply": "2022-01-31T00:56:08.072925Z",
     "shell.execute_reply.started": "2022-01-30T05:40:57.380770Z"
    },
    "papermill": {
     "duration": 0.061467,
     "end_time": "2022-01-31T00:56:08.073128",
     "exception": false,
     "start_time": "2022-01-31T00:56:08.011661",
     "status": "completed"
    },
    "tags": []
   },
   "outputs": [
    {
     "name": "stdout",
     "output_type": "stream",
     "text": [
      "<class 'pandas.core.frame.DataFrame'>\n",
      "RangeIndex: 26298 entries, 0 to 26297\n",
      "Data columns (total 8 columns):\n",
      " #   Column    Non-Null Count  Dtype   \n",
      "---  ------    --------------  -----   \n",
      " 0   country   26298 non-null  category\n",
      " 1   store     26298 non-null  category\n",
      " 2   product   26298 non-null  category\n",
      " 3   num_sold  26298 non-null  int64   \n",
      " 4   year      26298 non-null  int64   \n",
      " 5   month     26298 non-null  int64   \n",
      " 6   day       26298 non-null  int64   \n",
      " 7   season    26298 non-null  category\n",
      "dtypes: category(4), int64(4)\n",
      "memory usage: 925.2 KB\n"
     ]
    }
   ],
   "source": [
    "train.info()"
   ]
  },
  {
   "cell_type": "code",
   "execution_count": 26,
   "id": "e2497f3d",
   "metadata": {
    "execution": {
     "iopub.execute_input": "2022-01-31T00:56:08.175572Z",
     "iopub.status.busy": "2022-01-31T00:56:08.174709Z",
     "iopub.status.idle": "2022-01-31T00:56:08.185830Z",
     "shell.execute_reply": "2022-01-31T00:56:08.185369Z",
     "shell.execute_reply.started": "2022-01-30T05:24:01.003576Z"
    },
    "papermill": {
     "duration": 0.065619,
     "end_time": "2022-01-31T00:56:08.185958",
     "exception": false,
     "start_time": "2022-01-31T00:56:08.120339",
     "status": "completed"
    },
    "tags": []
   },
   "outputs": [],
   "source": [
    "#one hot encoding\n",
    "train = pd.get_dummies(train, columns=['country'], prefix='country')\n",
    "train = pd.get_dummies(train, columns=['store'], prefix='store')\n",
    "train = pd.get_dummies(train, columns=['product'], prefix='product')\n",
    "train = pd.get_dummies(train, columns=['season'], prefix='season')"
   ]
  },
  {
   "cell_type": "code",
   "execution_count": 27,
   "id": "1573236d",
   "metadata": {
    "execution": {
     "iopub.execute_input": "2022-01-31T00:56:08.288593Z",
     "iopub.status.busy": "2022-01-31T00:56:08.287636Z",
     "iopub.status.idle": "2022-01-31T00:56:08.297445Z",
     "shell.execute_reply": "2022-01-31T00:56:08.297984Z",
     "shell.execute_reply.started": "2022-01-30T05:24:09.969391Z"
    },
    "papermill": {
     "duration": 0.064333,
     "end_time": "2022-01-31T00:56:08.298132",
     "exception": false,
     "start_time": "2022-01-31T00:56:08.233799",
     "status": "completed"
    },
    "tags": []
   },
   "outputs": [],
   "source": [
    "test = pd.get_dummies(test, columns=['country'], prefix='country')\n",
    "test = pd.get_dummies(test, columns=['store'], prefix='store')\n",
    "test = pd.get_dummies(test, columns=['product'], prefix='product')\n",
    "test = pd.get_dummies(test, columns=['season'], prefix='season')"
   ]
  },
  {
   "cell_type": "code",
   "execution_count": 28,
   "id": "258ce073",
   "metadata": {
    "execution": {
     "iopub.execute_input": "2022-01-31T00:56:08.403976Z",
     "iopub.status.busy": "2022-01-31T00:56:08.403252Z",
     "iopub.status.idle": "2022-01-31T00:56:08.406134Z",
     "shell.execute_reply": "2022-01-31T00:56:08.406541Z",
     "shell.execute_reply.started": "2022-01-30T05:24:16.988491Z"
    },
    "papermill": {
     "duration": 0.061836,
     "end_time": "2022-01-31T00:56:08.406692",
     "exception": false,
     "start_time": "2022-01-31T00:56:08.344856",
     "status": "completed"
    },
    "tags": []
   },
   "outputs": [
    {
     "data": {
      "text/html": [
       "<div>\n",
       "<style scoped>\n",
       "    .dataframe tbody tr th:only-of-type {\n",
       "        vertical-align: middle;\n",
       "    }\n",
       "\n",
       "    .dataframe tbody tr th {\n",
       "        vertical-align: top;\n",
       "    }\n",
       "\n",
       "    .dataframe thead th {\n",
       "        text-align: right;\n",
       "    }\n",
       "</style>\n",
       "<table border=\"1\" class=\"dataframe\">\n",
       "  <thead>\n",
       "    <tr style=\"text-align: right;\">\n",
       "      <th></th>\n",
       "      <th>num_sold</th>\n",
       "      <th>year</th>\n",
       "      <th>month</th>\n",
       "      <th>day</th>\n",
       "      <th>country_1</th>\n",
       "      <th>country_2</th>\n",
       "      <th>country_3</th>\n",
       "      <th>store_1</th>\n",
       "      <th>store_2</th>\n",
       "      <th>product_1</th>\n",
       "      <th>product_2</th>\n",
       "      <th>product_3</th>\n",
       "      <th>season_1</th>\n",
       "      <th>season_2</th>\n",
       "      <th>season_3</th>\n",
       "      <th>season_4</th>\n",
       "    </tr>\n",
       "  </thead>\n",
       "  <tbody>\n",
       "    <tr>\n",
       "      <th>0</th>\n",
       "      <td>329</td>\n",
       "      <td>2015</td>\n",
       "      <td>1</td>\n",
       "      <td>1</td>\n",
       "      <td>1</td>\n",
       "      <td>0</td>\n",
       "      <td>0</td>\n",
       "      <td>1</td>\n",
       "      <td>0</td>\n",
       "      <td>0</td>\n",
       "      <td>1</td>\n",
       "      <td>0</td>\n",
       "      <td>0</td>\n",
       "      <td>0</td>\n",
       "      <td>0</td>\n",
       "      <td>1</td>\n",
       "    </tr>\n",
       "    <tr>\n",
       "      <th>1</th>\n",
       "      <td>520</td>\n",
       "      <td>2015</td>\n",
       "      <td>1</td>\n",
       "      <td>1</td>\n",
       "      <td>1</td>\n",
       "      <td>0</td>\n",
       "      <td>0</td>\n",
       "      <td>1</td>\n",
       "      <td>0</td>\n",
       "      <td>1</td>\n",
       "      <td>0</td>\n",
       "      <td>0</td>\n",
       "      <td>0</td>\n",
       "      <td>0</td>\n",
       "      <td>0</td>\n",
       "      <td>1</td>\n",
       "    </tr>\n",
       "    <tr>\n",
       "      <th>2</th>\n",
       "      <td>146</td>\n",
       "      <td>2015</td>\n",
       "      <td>1</td>\n",
       "      <td>1</td>\n",
       "      <td>1</td>\n",
       "      <td>0</td>\n",
       "      <td>0</td>\n",
       "      <td>1</td>\n",
       "      <td>0</td>\n",
       "      <td>0</td>\n",
       "      <td>0</td>\n",
       "      <td>1</td>\n",
       "      <td>0</td>\n",
       "      <td>0</td>\n",
       "      <td>0</td>\n",
       "      <td>1</td>\n",
       "    </tr>\n",
       "    <tr>\n",
       "      <th>3</th>\n",
       "      <td>572</td>\n",
       "      <td>2015</td>\n",
       "      <td>1</td>\n",
       "      <td>1</td>\n",
       "      <td>1</td>\n",
       "      <td>0</td>\n",
       "      <td>0</td>\n",
       "      <td>0</td>\n",
       "      <td>1</td>\n",
       "      <td>0</td>\n",
       "      <td>1</td>\n",
       "      <td>0</td>\n",
       "      <td>0</td>\n",
       "      <td>0</td>\n",
       "      <td>0</td>\n",
       "      <td>1</td>\n",
       "    </tr>\n",
       "    <tr>\n",
       "      <th>4</th>\n",
       "      <td>911</td>\n",
       "      <td>2015</td>\n",
       "      <td>1</td>\n",
       "      <td>1</td>\n",
       "      <td>1</td>\n",
       "      <td>0</td>\n",
       "      <td>0</td>\n",
       "      <td>0</td>\n",
       "      <td>1</td>\n",
       "      <td>1</td>\n",
       "      <td>0</td>\n",
       "      <td>0</td>\n",
       "      <td>0</td>\n",
       "      <td>0</td>\n",
       "      <td>0</td>\n",
       "      <td>1</td>\n",
       "    </tr>\n",
       "  </tbody>\n",
       "</table>\n",
       "</div>"
      ],
      "text/plain": [
       "   num_sold  year  month  day  country_1  country_2  country_3  store_1  \\\n",
       "0       329  2015      1    1          1          0          0        1   \n",
       "1       520  2015      1    1          1          0          0        1   \n",
       "2       146  2015      1    1          1          0          0        1   \n",
       "3       572  2015      1    1          1          0          0        0   \n",
       "4       911  2015      1    1          1          0          0        0   \n",
       "\n",
       "   store_2  product_1  product_2  product_3  season_1  season_2  season_3  \\\n",
       "0        0          0          1          0         0         0         0   \n",
       "1        0          1          0          0         0         0         0   \n",
       "2        0          0          0          1         0         0         0   \n",
       "3        1          0          1          0         0         0         0   \n",
       "4        1          1          0          0         0         0         0   \n",
       "\n",
       "   season_4  \n",
       "0         1  \n",
       "1         1  \n",
       "2         1  \n",
       "3         1  \n",
       "4         1  "
      ]
     },
     "execution_count": 28,
     "metadata": {},
     "output_type": "execute_result"
    }
   ],
   "source": [
    "train.head()"
   ]
  },
  {
   "cell_type": "code",
   "execution_count": 29,
   "id": "85290edb",
   "metadata": {
    "execution": {
     "iopub.execute_input": "2022-01-31T00:56:08.505553Z",
     "iopub.status.busy": "2022-01-31T00:56:08.504713Z",
     "iopub.status.idle": "2022-01-31T00:56:08.518587Z",
     "shell.execute_reply": "2022-01-31T00:56:08.519172Z",
     "shell.execute_reply.started": "2022-01-30T05:47:17.555146Z"
    },
    "papermill": {
     "duration": 0.065617,
     "end_time": "2022-01-31T00:56:08.519341",
     "exception": false,
     "start_time": "2022-01-31T00:56:08.453724",
     "status": "completed"
    },
    "tags": []
   },
   "outputs": [
    {
     "name": "stdout",
     "output_type": "stream",
     "text": [
      "(26298, 15)\n"
     ]
    },
    {
     "data": {
      "text/html": [
       "<div>\n",
       "<style scoped>\n",
       "    .dataframe tbody tr th:only-of-type {\n",
       "        vertical-align: middle;\n",
       "    }\n",
       "\n",
       "    .dataframe tbody tr th {\n",
       "        vertical-align: top;\n",
       "    }\n",
       "\n",
       "    .dataframe thead th {\n",
       "        text-align: right;\n",
       "    }\n",
       "</style>\n",
       "<table border=\"1\" class=\"dataframe\">\n",
       "  <thead>\n",
       "    <tr style=\"text-align: right;\">\n",
       "      <th></th>\n",
       "      <th>year</th>\n",
       "      <th>month</th>\n",
       "      <th>day</th>\n",
       "      <th>country_1</th>\n",
       "      <th>country_2</th>\n",
       "      <th>country_3</th>\n",
       "      <th>store_1</th>\n",
       "      <th>store_2</th>\n",
       "      <th>product_1</th>\n",
       "      <th>product_2</th>\n",
       "      <th>product_3</th>\n",
       "      <th>season_1</th>\n",
       "      <th>season_2</th>\n",
       "      <th>season_3</th>\n",
       "      <th>season_4</th>\n",
       "    </tr>\n",
       "  </thead>\n",
       "  <tbody>\n",
       "    <tr>\n",
       "      <th>0</th>\n",
       "      <td>2015</td>\n",
       "      <td>1</td>\n",
       "      <td>1</td>\n",
       "      <td>1</td>\n",
       "      <td>0</td>\n",
       "      <td>0</td>\n",
       "      <td>1</td>\n",
       "      <td>0</td>\n",
       "      <td>0</td>\n",
       "      <td>1</td>\n",
       "      <td>0</td>\n",
       "      <td>0</td>\n",
       "      <td>0</td>\n",
       "      <td>0</td>\n",
       "      <td>1</td>\n",
       "    </tr>\n",
       "    <tr>\n",
       "      <th>1</th>\n",
       "      <td>2015</td>\n",
       "      <td>1</td>\n",
       "      <td>1</td>\n",
       "      <td>1</td>\n",
       "      <td>0</td>\n",
       "      <td>0</td>\n",
       "      <td>1</td>\n",
       "      <td>0</td>\n",
       "      <td>1</td>\n",
       "      <td>0</td>\n",
       "      <td>0</td>\n",
       "      <td>0</td>\n",
       "      <td>0</td>\n",
       "      <td>0</td>\n",
       "      <td>1</td>\n",
       "    </tr>\n",
       "    <tr>\n",
       "      <th>2</th>\n",
       "      <td>2015</td>\n",
       "      <td>1</td>\n",
       "      <td>1</td>\n",
       "      <td>1</td>\n",
       "      <td>0</td>\n",
       "      <td>0</td>\n",
       "      <td>1</td>\n",
       "      <td>0</td>\n",
       "      <td>0</td>\n",
       "      <td>0</td>\n",
       "      <td>1</td>\n",
       "      <td>0</td>\n",
       "      <td>0</td>\n",
       "      <td>0</td>\n",
       "      <td>1</td>\n",
       "    </tr>\n",
       "    <tr>\n",
       "      <th>3</th>\n",
       "      <td>2015</td>\n",
       "      <td>1</td>\n",
       "      <td>1</td>\n",
       "      <td>1</td>\n",
       "      <td>0</td>\n",
       "      <td>0</td>\n",
       "      <td>0</td>\n",
       "      <td>1</td>\n",
       "      <td>0</td>\n",
       "      <td>1</td>\n",
       "      <td>0</td>\n",
       "      <td>0</td>\n",
       "      <td>0</td>\n",
       "      <td>0</td>\n",
       "      <td>1</td>\n",
       "    </tr>\n",
       "    <tr>\n",
       "      <th>4</th>\n",
       "      <td>2015</td>\n",
       "      <td>1</td>\n",
       "      <td>1</td>\n",
       "      <td>1</td>\n",
       "      <td>0</td>\n",
       "      <td>0</td>\n",
       "      <td>0</td>\n",
       "      <td>1</td>\n",
       "      <td>1</td>\n",
       "      <td>0</td>\n",
       "      <td>0</td>\n",
       "      <td>0</td>\n",
       "      <td>0</td>\n",
       "      <td>0</td>\n",
       "      <td>1</td>\n",
       "    </tr>\n",
       "  </tbody>\n",
       "</table>\n",
       "</div>"
      ],
      "text/plain": [
       "   year  month  day  country_1  country_2  country_3  store_1  store_2  \\\n",
       "0  2015      1    1          1          0          0        1        0   \n",
       "1  2015      1    1          1          0          0        1        0   \n",
       "2  2015      1    1          1          0          0        1        0   \n",
       "3  2015      1    1          1          0          0        0        1   \n",
       "4  2015      1    1          1          0          0        0        1   \n",
       "\n",
       "   product_1  product_2  product_3  season_1  season_2  season_3  season_4  \n",
       "0          0          1          0         0         0         0         1  \n",
       "1          1          0          0         0         0         0         1  \n",
       "2          0          0          1         0         0         0         1  \n",
       "3          0          1          0         0         0         0         1  \n",
       "4          1          0          0         0         0         0         1  "
      ]
     },
     "execution_count": 29,
     "metadata": {},
     "output_type": "execute_result"
    }
   ],
   "source": [
    "X_train = train\n",
    "X_train = X_train.drop(\"num_sold\", axis=1)\n",
    "\n",
    "print(X_train.shape)\n",
    "X_train.head()"
   ]
  },
  {
   "cell_type": "code",
   "execution_count": 30,
   "id": "76be73bc",
   "metadata": {
    "execution": {
     "iopub.execute_input": "2022-01-31T00:56:08.625434Z",
     "iopub.status.busy": "2022-01-31T00:56:08.624538Z",
     "iopub.status.idle": "2022-01-31T00:56:08.629303Z",
     "shell.execute_reply": "2022-01-31T00:56:08.629849Z",
     "shell.execute_reply.started": "2022-01-30T05:47:19.651767Z"
    },
    "papermill": {
     "duration": 0.062964,
     "end_time": "2022-01-31T00:56:08.630014",
     "exception": false,
     "start_time": "2022-01-31T00:56:08.567050",
     "status": "completed"
    },
    "tags": []
   },
   "outputs": [
    {
     "name": "stdout",
     "output_type": "stream",
     "text": [
      "(6570, 15)\n"
     ]
    },
    {
     "data": {
      "text/html": [
       "<div>\n",
       "<style scoped>\n",
       "    .dataframe tbody tr th:only-of-type {\n",
       "        vertical-align: middle;\n",
       "    }\n",
       "\n",
       "    .dataframe tbody tr th {\n",
       "        vertical-align: top;\n",
       "    }\n",
       "\n",
       "    .dataframe thead th {\n",
       "        text-align: right;\n",
       "    }\n",
       "</style>\n",
       "<table border=\"1\" class=\"dataframe\">\n",
       "  <thead>\n",
       "    <tr style=\"text-align: right;\">\n",
       "      <th></th>\n",
       "      <th>year</th>\n",
       "      <th>month</th>\n",
       "      <th>day</th>\n",
       "      <th>country_1</th>\n",
       "      <th>country_2</th>\n",
       "      <th>country_3</th>\n",
       "      <th>store_1</th>\n",
       "      <th>store_2</th>\n",
       "      <th>product_1</th>\n",
       "      <th>product_2</th>\n",
       "      <th>product_3</th>\n",
       "      <th>season_1</th>\n",
       "      <th>season_2</th>\n",
       "      <th>season_3</th>\n",
       "      <th>season_4</th>\n",
       "    </tr>\n",
       "  </thead>\n",
       "  <tbody>\n",
       "    <tr>\n",
       "      <th>0</th>\n",
       "      <td>2019</td>\n",
       "      <td>1</td>\n",
       "      <td>1</td>\n",
       "      <td>1</td>\n",
       "      <td>0</td>\n",
       "      <td>0</td>\n",
       "      <td>1</td>\n",
       "      <td>0</td>\n",
       "      <td>0</td>\n",
       "      <td>1</td>\n",
       "      <td>0</td>\n",
       "      <td>0</td>\n",
       "      <td>0</td>\n",
       "      <td>0</td>\n",
       "      <td>1</td>\n",
       "    </tr>\n",
       "    <tr>\n",
       "      <th>1</th>\n",
       "      <td>2019</td>\n",
       "      <td>1</td>\n",
       "      <td>1</td>\n",
       "      <td>1</td>\n",
       "      <td>0</td>\n",
       "      <td>0</td>\n",
       "      <td>1</td>\n",
       "      <td>0</td>\n",
       "      <td>1</td>\n",
       "      <td>0</td>\n",
       "      <td>0</td>\n",
       "      <td>0</td>\n",
       "      <td>0</td>\n",
       "      <td>0</td>\n",
       "      <td>1</td>\n",
       "    </tr>\n",
       "    <tr>\n",
       "      <th>2</th>\n",
       "      <td>2019</td>\n",
       "      <td>1</td>\n",
       "      <td>1</td>\n",
       "      <td>1</td>\n",
       "      <td>0</td>\n",
       "      <td>0</td>\n",
       "      <td>1</td>\n",
       "      <td>0</td>\n",
       "      <td>0</td>\n",
       "      <td>0</td>\n",
       "      <td>1</td>\n",
       "      <td>0</td>\n",
       "      <td>0</td>\n",
       "      <td>0</td>\n",
       "      <td>1</td>\n",
       "    </tr>\n",
       "    <tr>\n",
       "      <th>3</th>\n",
       "      <td>2019</td>\n",
       "      <td>1</td>\n",
       "      <td>1</td>\n",
       "      <td>1</td>\n",
       "      <td>0</td>\n",
       "      <td>0</td>\n",
       "      <td>0</td>\n",
       "      <td>1</td>\n",
       "      <td>0</td>\n",
       "      <td>1</td>\n",
       "      <td>0</td>\n",
       "      <td>0</td>\n",
       "      <td>0</td>\n",
       "      <td>0</td>\n",
       "      <td>1</td>\n",
       "    </tr>\n",
       "    <tr>\n",
       "      <th>4</th>\n",
       "      <td>2019</td>\n",
       "      <td>1</td>\n",
       "      <td>1</td>\n",
       "      <td>1</td>\n",
       "      <td>0</td>\n",
       "      <td>0</td>\n",
       "      <td>0</td>\n",
       "      <td>1</td>\n",
       "      <td>1</td>\n",
       "      <td>0</td>\n",
       "      <td>0</td>\n",
       "      <td>0</td>\n",
       "      <td>0</td>\n",
       "      <td>0</td>\n",
       "      <td>1</td>\n",
       "    </tr>\n",
       "  </tbody>\n",
       "</table>\n",
       "</div>"
      ],
      "text/plain": [
       "   year  month  day  country_1  country_2  country_3  store_1  store_2  \\\n",
       "0  2019      1    1          1          0          0        1        0   \n",
       "1  2019      1    1          1          0          0        1        0   \n",
       "2  2019      1    1          1          0          0        1        0   \n",
       "3  2019      1    1          1          0          0        0        1   \n",
       "4  2019      1    1          1          0          0        0        1   \n",
       "\n",
       "   product_1  product_2  product_3  season_1  season_2  season_3  season_4  \n",
       "0          0          1          0         0         0         0         1  \n",
       "1          1          0          0         0         0         0         1  \n",
       "2          0          0          1         0         0         0         1  \n",
       "3          0          1          0         0         0         0         1  \n",
       "4          1          0          0         0         0         0         1  "
      ]
     },
     "execution_count": 30,
     "metadata": {},
     "output_type": "execute_result"
    }
   ],
   "source": [
    "X_test = test\n",
    "print(X_test.shape)\n",
    "X_test.head()"
   ]
  },
  {
   "cell_type": "code",
   "execution_count": 31,
   "id": "9473c5e8",
   "metadata": {
    "execution": {
     "iopub.execute_input": "2022-01-31T00:56:08.733906Z",
     "iopub.status.busy": "2022-01-31T00:56:08.733219Z",
     "iopub.status.idle": "2022-01-31T00:56:08.738286Z",
     "shell.execute_reply": "2022-01-31T00:56:08.738866Z",
     "shell.execute_reply.started": "2022-01-30T05:25:15.432633Z"
    },
    "papermill": {
     "duration": 0.060382,
     "end_time": "2022-01-31T00:56:08.739030",
     "exception": false,
     "start_time": "2022-01-31T00:56:08.678648",
     "status": "completed"
    },
    "tags": []
   },
   "outputs": [
    {
     "name": "stdout",
     "output_type": "stream",
     "text": [
      "(26298,)\n"
     ]
    },
    {
     "data": {
      "text/plain": [
       "0    329\n",
       "1    520\n",
       "2    146\n",
       "3    572\n",
       "4    911\n",
       "Name: num_sold, dtype: int64"
      ]
     },
     "execution_count": 31,
     "metadata": {},
     "output_type": "execute_result"
    }
   ],
   "source": [
    "label_name = \"num_sold\"\n",
    "y_train = train[label_name]\n",
    "print(y_train.shape)\n",
    "y_train.head()"
   ]
  },
  {
   "cell_type": "code",
   "execution_count": 32,
   "id": "61cb0486",
   "metadata": {
    "execution": {
     "iopub.execute_input": "2022-01-31T00:56:08.841468Z",
     "iopub.status.busy": "2022-01-31T00:56:08.840747Z",
     "iopub.status.idle": "2022-01-31T00:56:08.849847Z",
     "shell.execute_reply": "2022-01-31T00:56:08.850484Z",
     "shell.execute_reply.started": "2022-01-30T05:41:11.019434Z"
    },
    "papermill": {
     "duration": 0.062846,
     "end_time": "2022-01-31T00:56:08.850663",
     "exception": false,
     "start_time": "2022-01-31T00:56:08.787817",
     "status": "completed"
    },
    "tags": []
   },
   "outputs": [
    {
     "name": "stdout",
     "output_type": "stream",
     "text": [
      "<class 'pandas.core.frame.DataFrame'>\n",
      "RangeIndex: 26298 entries, 0 to 26297\n",
      "Data columns (total 15 columns):\n",
      " #   Column     Non-Null Count  Dtype\n",
      "---  ------     --------------  -----\n",
      " 0   year       26298 non-null  int64\n",
      " 1   month      26298 non-null  int64\n",
      " 2   day        26298 non-null  int64\n",
      " 3   country_1  26298 non-null  uint8\n",
      " 4   country_2  26298 non-null  uint8\n",
      " 5   country_3  26298 non-null  uint8\n",
      " 6   store_1    26298 non-null  uint8\n",
      " 7   store_2    26298 non-null  uint8\n",
      " 8   product_1  26298 non-null  uint8\n",
      " 9   product_2  26298 non-null  uint8\n",
      " 10  product_3  26298 non-null  uint8\n",
      " 11  season_1   26298 non-null  uint8\n",
      " 12  season_2   26298 non-null  uint8\n",
      " 13  season_3   26298 non-null  uint8\n",
      " 14  season_4   26298 non-null  uint8\n",
      "dtypes: int64(3), uint8(12)\n",
      "memory usage: 924.7 KB\n"
     ]
    }
   ],
   "source": [
    "X_train.info()"
   ]
  },
  {
   "cell_type": "markdown",
   "id": "3c224dbf",
   "metadata": {
    "papermill": {
     "duration": 0.04888,
     "end_time": "2022-01-31T00:56:08.950094",
     "exception": false,
     "start_time": "2022-01-31T00:56:08.901214",
     "status": "completed"
    },
    "tags": []
   },
   "source": [
    "## Score"
   ]
  },
  {
   "cell_type": "code",
   "execution_count": 33,
   "id": "206e6c0e",
   "metadata": {
    "execution": {
     "iopub.execute_input": "2022-01-31T00:56:09.055196Z",
     "iopub.status.busy": "2022-01-31T00:56:09.054539Z",
     "iopub.status.idle": "2022-01-31T00:56:09.057076Z",
     "shell.execute_reply": "2022-01-31T00:56:09.057510Z",
     "shell.execute_reply.started": "2022-01-30T05:30:25.307863Z"
    },
    "papermill": {
     "duration": 0.057249,
     "end_time": "2022-01-31T00:56:09.057641",
     "exception": false,
     "start_time": "2022-01-31T00:56:09.000392",
     "status": "completed"
    },
    "tags": []
   },
   "outputs": [
    {
     "data": {
      "text/plain": [
       "make_scorer(smape)"
      ]
     },
     "execution_count": 33,
     "metadata": {},
     "output_type": "execute_result"
    }
   ],
   "source": [
    "def smape(a, f):\n",
    "    return 1/len(a) * np.sum(2 * np.abs(f-a) / (np.abs(a) + np.abs(f))*100)\n",
    "\n",
    "smape_scorer = make_scorer(smape)\n",
    "smape_scorer"
   ]
  },
  {
   "cell_type": "code",
   "execution_count": 34,
   "id": "31ac381e",
   "metadata": {
    "execution": {
     "iopub.execute_input": "2022-01-31T00:56:09.165722Z",
     "iopub.status.busy": "2022-01-31T00:56:09.164887Z",
     "iopub.status.idle": "2022-01-31T00:56:09.168551Z",
     "shell.execute_reply": "2022-01-31T00:56:09.168142Z",
     "shell.execute_reply.started": "2022-01-30T05:25:25.782255Z"
    },
    "papermill": {
     "duration": 0.060882,
     "end_time": "2022-01-31T00:56:09.168680",
     "exception": false,
     "start_time": "2022-01-31T00:56:09.107798",
     "status": "completed"
    },
    "tags": []
   },
   "outputs": [
    {
     "data": {
      "text/plain": [
       "17.230769230769234"
      ]
     },
     "execution_count": 34,
     "metadata": {},
     "output_type": "execute_result"
    }
   ],
   "source": [
    "# smape test\n",
    "a = {'0':100, '1':200, '2':300, '3':400, '4':500}\n",
    "aa = pd.Series(data=a, index=['0', '1', '2', '3', '4'])\n",
    "\n",
    "b = {'0':100, '1':200, '2':300, '3':600, '4':800}\n",
    "bb = pd.Series(data=b, index=['0', '1', '2', '3', '4'])\n",
    "    \n",
    "smape(aa, bb) # 100% 0"
   ]
  },
  {
   "cell_type": "code",
   "execution_count": 35,
   "id": "dc1c2760",
   "metadata": {
    "execution": {
     "iopub.execute_input": "2022-01-31T00:56:09.271921Z",
     "iopub.status.busy": "2022-01-31T00:56:09.271134Z",
     "iopub.status.idle": "2022-01-31T00:56:09.273269Z",
     "shell.execute_reply": "2022-01-31T00:56:09.273640Z",
     "shell.execute_reply.started": "2022-01-30T05:41:43.617332Z"
    },
    "papermill": {
     "duration": 0.055388,
     "end_time": "2022-01-31T00:56:09.273764",
     "exception": false,
     "start_time": "2022-01-31T00:56:09.218376",
     "status": "completed"
    },
    "tags": []
   },
   "outputs": [],
   "source": [
    "# KFold cross validation\n",
    "from sklearn.model_selection import KFold\n",
    "from sklearn.model_selection import cross_val_score\n",
    "\n",
    "k_fold = KFold(n_splits=10, shuffle=True, random_state=0)"
   ]
  },
  {
   "cell_type": "markdown",
   "id": "f8f6beb9",
   "metadata": {
    "papermill": {
     "duration": 0.049358,
     "end_time": "2022-01-31T00:56:09.372742",
     "exception": false,
     "start_time": "2022-01-31T00:56:09.323384",
     "status": "completed"
    },
    "tags": []
   },
   "source": [
    "## model"
   ]
  },
  {
   "cell_type": "markdown",
   "id": "527a820d",
   "metadata": {
    "papermill": {
     "duration": 0.049985,
     "end_time": "2022-01-31T00:56:09.472530",
     "exception": false,
     "start_time": "2022-01-31T00:56:09.422545",
     "status": "completed"
    },
    "tags": []
   },
   "source": [
    "### 0. best"
   ]
  },
  {
   "cell_type": "code",
   "execution_count": 36,
   "id": "3814dc05",
   "metadata": {
    "execution": {
     "iopub.execute_input": "2022-01-31T00:56:09.585311Z",
     "iopub.status.busy": "2022-01-31T00:56:09.584426Z",
     "iopub.status.idle": "2022-01-31T00:56:53.997153Z",
     "shell.execute_reply": "2022-01-31T00:56:53.996458Z",
     "shell.execute_reply.started": "2022-01-30T05:47:27.087756Z"
    },
    "papermill": {
     "duration": 44.474675,
     "end_time": "2022-01-31T00:56:53.997326",
     "exception": false,
     "start_time": "2022-01-31T00:56:09.522651",
     "status": "completed"
    },
    "tags": []
   },
   "outputs": [
    {
     "name": "stdout",
     "output_type": "stream",
     "text": [
      "CPU times: user 3 µs, sys: 1 µs, total: 4 µs\n",
      "Wall time: 5.72 µs\n",
      "score = 10.11795\n",
      "CPU times: user 2 µs, sys: 1e+03 ns, total: 3 µs\n",
      "Wall time: 6.2 µs\n",
      "(6570,)\n"
     ]
    },
    {
     "data": {
      "text/plain": [
       "array([ 392.76,  541.44,  159.03,  670.74,  976.95,  283.42,  604.33,\n",
       "        881.08,  260.29, 1074.4 ])"
      ]
     },
     "execution_count": 36,
     "metadata": {},
     "output_type": "execute_result"
    }
   ],
   "source": [
    "from sklearn.ensemble import RandomForestRegressor\n",
    "\n",
    "max_depth_list = []\n",
    "model = RandomForestRegressor(n_estimators=100, \n",
    "                             n_jobs=-1, \n",
    "                             random_state=0)\n",
    "\n",
    "%time\n",
    "score = cross_val_score(model, X_train, y_train, cv=k_fold, scoring=smape_scorer)\n",
    "score = score.mean()\n",
    "print(\"score = {0:.5f}\".format(score))\n",
    "\n",
    "%time\n",
    "model.fit(X_train, y_train)\n",
    "\n",
    "predictions = model.predict(X_test)\n",
    "\n",
    "print(predictions.shape)\n",
    "predictions[0:10]"
   ]
  },
  {
   "cell_type": "markdown",
   "id": "09ea869b",
   "metadata": {
    "papermill": {
     "duration": 0.050672,
     "end_time": "2022-01-31T00:56:54.100264",
     "exception": false,
     "start_time": "2022-01-31T00:56:54.049592",
     "status": "completed"
    },
    "tags": []
   },
   "source": [
    "### 1. linear regression"
   ]
  },
  {
   "cell_type": "code",
   "execution_count": 37,
   "id": "564c6fa5",
   "metadata": {
    "execution": {
     "iopub.execute_input": "2022-01-31T00:56:54.207061Z",
     "iopub.status.busy": "2022-01-31T00:56:54.206176Z",
     "iopub.status.idle": "2022-01-31T00:56:54.207985Z",
     "shell.execute_reply": "2022-01-31T00:56:54.208386Z",
     "shell.execute_reply.started": "2022-01-30T05:48:22.452671Z"
    },
    "papermill": {
     "duration": 0.057807,
     "end_time": "2022-01-31T00:56:54.208517",
     "exception": false,
     "start_time": "2022-01-31T00:56:54.150710",
     "status": "completed"
    },
    "tags": []
   },
   "outputs": [],
   "source": [
    "from sklearn.linear_model import LinearRegression, Ridge, Lasso\n",
    "from sklearn.model_selection import GridSearchCV\n",
    "from sklearn import metrics\n",
    "import warnings\n",
    "pd.options.mode.chained_assignment = None\n",
    "warnings.filterwarnings(\"ignore\", category=DeprecationWarning)"
   ]
  },
  {
   "cell_type": "code",
   "execution_count": 38,
   "id": "ed3ce527",
   "metadata": {
    "execution": {
     "iopub.execute_input": "2022-01-31T00:56:54.313645Z",
     "iopub.status.busy": "2022-01-31T00:56:54.312850Z",
     "iopub.status.idle": "2022-01-31T00:56:54.344719Z",
     "shell.execute_reply": "2022-01-31T00:56:54.345448Z",
     "shell.execute_reply.started": "2022-01-30T05:48:25.001127Z"
    },
    "papermill": {
     "duration": 0.087111,
     "end_time": "2022-01-31T00:56:54.345696",
     "exception": false,
     "start_time": "2022-01-31T00:56:54.258585",
     "status": "completed"
    },
    "tags": []
   },
   "outputs": [
    {
     "name": "stdout",
     "output_type": "stream",
     "text": [
      "SMAPE for Linear Regression: 13.829385285336812\n"
     ]
    }
   ],
   "source": [
    "lModel = LinearRegression()\n",
    "\n",
    "y_train_log = np.log1p(y_train)\n",
    "lModel.fit(X_train, y_train_log)\n",
    "\n",
    "preds_l = lModel.predict(X_train)\n",
    "print(\"SMAPE for Linear Regression:\", smape(np.exp(y_train_log), np.exp(preds_l)))"
   ]
  },
  {
   "cell_type": "markdown",
   "id": "5d911287",
   "metadata": {
    "papermill": {
     "duration": 0.06426,
     "end_time": "2022-01-31T00:56:54.503592",
     "exception": false,
     "start_time": "2022-01-31T00:56:54.439332",
     "status": "completed"
    },
    "tags": []
   },
   "source": [
    "### 2. ridge"
   ]
  },
  {
   "cell_type": "code",
   "execution_count": 39,
   "id": "c9877e12",
   "metadata": {
    "execution": {
     "iopub.execute_input": "2022-01-31T00:56:54.611339Z",
     "iopub.status.busy": "2022-01-31T00:56:54.610535Z",
     "iopub.status.idle": "2022-01-31T00:56:55.564489Z",
     "shell.execute_reply": "2022-01-31T00:56:55.563784Z",
     "shell.execute_reply.started": "2022-01-30T05:48:27.769678Z"
    },
    "papermill": {
     "duration": 1.01062,
     "end_time": "2022-01-31T00:56:55.564693",
     "exception": false,
     "start_time": "2022-01-31T00:56:54.554073",
     "status": "completed"
    },
    "tags": []
   },
   "outputs": [
    {
     "name": "stdout",
     "output_type": "stream",
     "text": [
      "{'alpha': 100, 'max_iter': 3000}\n",
      "SMAPE for Ridge Regression: 13.832625320131655\n"
     ]
    },
    {
     "data": {
      "text/html": [
       "<div>\n",
       "<style scoped>\n",
       "    .dataframe tbody tr th:only-of-type {\n",
       "        vertical-align: middle;\n",
       "    }\n",
       "\n",
       "    .dataframe tbody tr th {\n",
       "        vertical-align: top;\n",
       "    }\n",
       "\n",
       "    .dataframe thead th {\n",
       "        text-align: right;\n",
       "    }\n",
       "</style>\n",
       "<table border=\"1\" class=\"dataframe\">\n",
       "  <thead>\n",
       "    <tr style=\"text-align: right;\">\n",
       "      <th></th>\n",
       "      <th>mean_fit_time</th>\n",
       "      <th>std_fit_time</th>\n",
       "      <th>mean_score_time</th>\n",
       "      <th>std_score_time</th>\n",
       "      <th>param_alpha</th>\n",
       "      <th>param_max_iter</th>\n",
       "      <th>params</th>\n",
       "      <th>split0_test_score</th>\n",
       "      <th>split1_test_score</th>\n",
       "      <th>split2_test_score</th>\n",
       "      <th>split3_test_score</th>\n",
       "      <th>split4_test_score</th>\n",
       "      <th>mean_test_score</th>\n",
       "      <th>std_test_score</th>\n",
       "      <th>rank_test_score</th>\n",
       "    </tr>\n",
       "  </thead>\n",
       "  <tbody>\n",
       "    <tr>\n",
       "      <th>0</th>\n",
       "      <td>0.007301</td>\n",
       "      <td>0.000214</td>\n",
       "      <td>0.003672</td>\n",
       "      <td>0.000157</td>\n",
       "      <td>0.01</td>\n",
       "      <td>3000</td>\n",
       "      <td>{'alpha': 0.01, 'max_iter': 3000}</td>\n",
       "      <td>-2.354834</td>\n",
       "      <td>-2.615204</td>\n",
       "      <td>-2.540135</td>\n",
       "      <td>-2.333357</td>\n",
       "      <td>-2.459109</td>\n",
       "      <td>-2.460528</td>\n",
       "      <td>0.107339</td>\n",
       "      <td>9</td>\n",
       "    </tr>\n",
       "    <tr>\n",
       "      <th>1</th>\n",
       "      <td>0.007500</td>\n",
       "      <td>0.000143</td>\n",
       "      <td>0.003753</td>\n",
       "      <td>0.000184</td>\n",
       "      <td>0.1</td>\n",
       "      <td>3000</td>\n",
       "      <td>{'alpha': 0.1, 'max_iter': 3000}</td>\n",
       "      <td>-2.354837</td>\n",
       "      <td>-2.615213</td>\n",
       "      <td>-2.540135</td>\n",
       "      <td>-2.333338</td>\n",
       "      <td>-2.459093</td>\n",
       "      <td>-2.460523</td>\n",
       "      <td>0.107345</td>\n",
       "      <td>8</td>\n",
       "    </tr>\n",
       "    <tr>\n",
       "      <th>2</th>\n",
       "      <td>0.007520</td>\n",
       "      <td>0.000135</td>\n",
       "      <td>0.003590</td>\n",
       "      <td>0.000021</td>\n",
       "      <td>1</td>\n",
       "      <td>3000</td>\n",
       "      <td>{'alpha': 1, 'max_iter': 3000}</td>\n",
       "      <td>-2.354874</td>\n",
       "      <td>-2.615300</td>\n",
       "      <td>-2.540136</td>\n",
       "      <td>-2.333151</td>\n",
       "      <td>-2.458936</td>\n",
       "      <td>-2.460479</td>\n",
       "      <td>0.107408</td>\n",
       "      <td>7</td>\n",
       "    </tr>\n",
       "    <tr>\n",
       "      <th>3</th>\n",
       "      <td>0.007513</td>\n",
       "      <td>0.000089</td>\n",
       "      <td>0.003707</td>\n",
       "      <td>0.000211</td>\n",
       "      <td>2</td>\n",
       "      <td>3000</td>\n",
       "      <td>{'alpha': 2, 'max_iter': 3000}</td>\n",
       "      <td>-2.354915</td>\n",
       "      <td>-2.615396</td>\n",
       "      <td>-2.540137</td>\n",
       "      <td>-2.332943</td>\n",
       "      <td>-2.458761</td>\n",
       "      <td>-2.460431</td>\n",
       "      <td>0.107477</td>\n",
       "      <td>6</td>\n",
       "    </tr>\n",
       "    <tr>\n",
       "      <th>4</th>\n",
       "      <td>0.007270</td>\n",
       "      <td>0.000131</td>\n",
       "      <td>0.003529</td>\n",
       "      <td>0.000073</td>\n",
       "      <td>3</td>\n",
       "      <td>3000</td>\n",
       "      <td>{'alpha': 3, 'max_iter': 3000}</td>\n",
       "      <td>-2.354958</td>\n",
       "      <td>-2.615494</td>\n",
       "      <td>-2.540139</td>\n",
       "      <td>-2.332738</td>\n",
       "      <td>-2.458588</td>\n",
       "      <td>-2.460383</td>\n",
       "      <td>0.107547</td>\n",
       "      <td>5</td>\n",
       "    </tr>\n",
       "  </tbody>\n",
       "</table>\n",
       "</div>"
      ],
      "text/plain": [
       "   mean_fit_time  std_fit_time  mean_score_time  std_score_time param_alpha  \\\n",
       "0       0.007301      0.000214         0.003672        0.000157        0.01   \n",
       "1       0.007500      0.000143         0.003753        0.000184         0.1   \n",
       "2       0.007520      0.000135         0.003590        0.000021           1   \n",
       "3       0.007513      0.000089         0.003707        0.000211           2   \n",
       "4       0.007270      0.000131         0.003529        0.000073           3   \n",
       "\n",
       "  param_max_iter                             params  split0_test_score  \\\n",
       "0           3000  {'alpha': 0.01, 'max_iter': 3000}          -2.354834   \n",
       "1           3000   {'alpha': 0.1, 'max_iter': 3000}          -2.354837   \n",
       "2           3000     {'alpha': 1, 'max_iter': 3000}          -2.354874   \n",
       "3           3000     {'alpha': 2, 'max_iter': 3000}          -2.354915   \n",
       "4           3000     {'alpha': 3, 'max_iter': 3000}          -2.354958   \n",
       "\n",
       "   split1_test_score  split2_test_score  split3_test_score  split4_test_score  \\\n",
       "0          -2.615204          -2.540135          -2.333357          -2.459109   \n",
       "1          -2.615213          -2.540135          -2.333338          -2.459093   \n",
       "2          -2.615300          -2.540136          -2.333151          -2.458936   \n",
       "3          -2.615396          -2.540137          -2.332943          -2.458761   \n",
       "4          -2.615494          -2.540139          -2.332738          -2.458588   \n",
       "\n",
       "   mean_test_score  std_test_score  rank_test_score  \n",
       "0        -2.460528        0.107339                9  \n",
       "1        -2.460523        0.107345                8  \n",
       "2        -2.460479        0.107408                7  \n",
       "3        -2.460431        0.107477                6  \n",
       "4        -2.460383        0.107547                5  "
      ]
     },
     "execution_count": 39,
     "metadata": {},
     "output_type": "execute_result"
    }
   ],
   "source": [
    "ridge_m_ = Ridge()\n",
    "ridge_params_ = {'max_iter':[3000], 'alpha':[0.01, 0.1, 1, 2, 3, 4, 10, 30, 100, 200, 300, 400, 800, 900, 1000]}\n",
    "smape_scorer = metrics.make_scorer(smape, greater_is_better=False)\n",
    "grid_ridge_m = GridSearchCV(ridge_m_, \n",
    "                           ridge_params_,\n",
    "                           scoring = smape_scorer,\n",
    "                           cv=5)\n",
    "\n",
    "y_train_log = np.log1p(y_train)\n",
    "grid_ridge_m.fit(X_train, y_train_log)\n",
    "preds_ridge = grid_ridge_m.predict(X_train)\n",
    "print(grid_ridge_m.best_params_)\n",
    "print('SMAPE for Ridge Regression:', smape(np.exp(y_train_log), np.exp(preds_ridge)))\n",
    "\n",
    "df = pd.DataFrame(grid_ridge_m.cv_results_)\n",
    "df.head()"
   ]
  },
  {
   "cell_type": "code",
   "execution_count": 40,
   "id": "7f5323fb",
   "metadata": {
    "execution": {
     "iopub.execute_input": "2022-01-31T00:56:55.724579Z",
     "iopub.status.busy": "2022-01-31T00:56:55.720617Z",
     "iopub.status.idle": "2022-01-31T00:56:55.727846Z",
     "shell.execute_reply": "2022-01-31T00:56:55.728221Z",
     "shell.execute_reply.started": "2022-01-30T05:48:31.580198Z"
    },
    "papermill": {
     "duration": 0.068028,
     "end_time": "2022-01-31T00:56:55.728378",
     "exception": false,
     "start_time": "2022-01-31T00:56:55.660350",
     "status": "completed"
    },
    "tags": []
   },
   "outputs": [
    {
     "data": {
      "text/html": [
       "<div>\n",
       "<style scoped>\n",
       "    .dataframe tbody tr th:only-of-type {\n",
       "        vertical-align: middle;\n",
       "    }\n",
       "\n",
       "    .dataframe tbody tr th {\n",
       "        vertical-align: top;\n",
       "    }\n",
       "\n",
       "    .dataframe thead th {\n",
       "        text-align: right;\n",
       "    }\n",
       "</style>\n",
       "<table border=\"1\" class=\"dataframe\">\n",
       "  <thead>\n",
       "    <tr style=\"text-align: right;\">\n",
       "      <th></th>\n",
       "      <th>alpha</th>\n",
       "      <th>smape</th>\n",
       "    </tr>\n",
       "  </thead>\n",
       "  <tbody>\n",
       "    <tr>\n",
       "      <th>0</th>\n",
       "      <td>0.01</td>\n",
       "      <td>2.460528</td>\n",
       "    </tr>\n",
       "    <tr>\n",
       "      <th>1</th>\n",
       "      <td>0.10</td>\n",
       "      <td>2.460523</td>\n",
       "    </tr>\n",
       "    <tr>\n",
       "      <th>2</th>\n",
       "      <td>1.00</td>\n",
       "      <td>2.460479</td>\n",
       "    </tr>\n",
       "    <tr>\n",
       "      <th>3</th>\n",
       "      <td>2.00</td>\n",
       "      <td>2.460431</td>\n",
       "    </tr>\n",
       "    <tr>\n",
       "      <th>4</th>\n",
       "      <td>3.00</td>\n",
       "      <td>2.460383</td>\n",
       "    </tr>\n",
       "  </tbody>\n",
       "</table>\n",
       "</div>"
      ],
      "text/plain": [
       "   alpha     smape\n",
       "0   0.01  2.460528\n",
       "1   0.10  2.460523\n",
       "2   1.00  2.460479\n",
       "3   2.00  2.460431\n",
       "4   3.00  2.460383"
      ]
     },
     "execution_count": 40,
     "metadata": {},
     "output_type": "execute_result"
    }
   ],
   "source": [
    "df[\"alpha\"] = df[\"params\"].apply(lambda x:x[\"alpha\"])\n",
    "df[\"smape\"] = df[\"mean_test_score\"].apply(lambda x:-x)\n",
    "df[[\"alpha\", \"smape\"]].head()"
   ]
  },
  {
   "cell_type": "code",
   "execution_count": 41,
   "id": "29454eac",
   "metadata": {
    "execution": {
     "iopub.execute_input": "2022-01-31T00:56:55.855941Z",
     "iopub.status.busy": "2022-01-31T00:56:55.853897Z",
     "iopub.status.idle": "2022-01-31T00:56:55.858375Z",
     "shell.execute_reply": "2022-01-31T00:56:55.857889Z",
     "shell.execute_reply.started": "2022-01-30T05:48:37.339029Z"
    },
    "papermill": {
     "duration": 0.074528,
     "end_time": "2022-01-31T00:56:55.858490",
     "exception": false,
     "start_time": "2022-01-31T00:56:55.783962",
     "status": "completed"
    },
    "tags": []
   },
   "outputs": [
    {
     "data": {
      "text/html": [
       "<div>\n",
       "<style scoped>\n",
       "    .dataframe tbody tr th:only-of-type {\n",
       "        vertical-align: middle;\n",
       "    }\n",
       "\n",
       "    .dataframe tbody tr th {\n",
       "        vertical-align: top;\n",
       "    }\n",
       "\n",
       "    .dataframe thead th {\n",
       "        text-align: right;\n",
       "    }\n",
       "</style>\n",
       "<table border=\"1\" class=\"dataframe\">\n",
       "  <thead>\n",
       "    <tr style=\"text-align: right;\">\n",
       "      <th></th>\n",
       "      <th>alpha</th>\n",
       "      <th>smape</th>\n",
       "    </tr>\n",
       "  </thead>\n",
       "  <tbody>\n",
       "    <tr>\n",
       "      <th>0</th>\n",
       "      <td>0.01</td>\n",
       "      <td>2.460528</td>\n",
       "    </tr>\n",
       "    <tr>\n",
       "      <th>1</th>\n",
       "      <td>0.10</td>\n",
       "      <td>2.460523</td>\n",
       "    </tr>\n",
       "    <tr>\n",
       "      <th>2</th>\n",
       "      <td>1.00</td>\n",
       "      <td>2.460479</td>\n",
       "    </tr>\n",
       "    <tr>\n",
       "      <th>3</th>\n",
       "      <td>2.00</td>\n",
       "      <td>2.460431</td>\n",
       "    </tr>\n",
       "    <tr>\n",
       "      <th>4</th>\n",
       "      <td>3.00</td>\n",
       "      <td>2.460383</td>\n",
       "    </tr>\n",
       "  </tbody>\n",
       "</table>\n",
       "</div>"
      ],
      "text/plain": [
       "   alpha     smape\n",
       "0   0.01  2.460528\n",
       "1   0.10  2.460523\n",
       "2   1.00  2.460479\n",
       "3   2.00  2.460431\n",
       "4   3.00  2.460383"
      ]
     },
     "execution_count": 41,
     "metadata": {},
     "output_type": "execute_result"
    }
   ],
   "source": [
    "df[[\"alpha\", \"smape\"]].head()"
   ]
  },
  {
   "cell_type": "code",
   "execution_count": 42,
   "id": "41f3fef6",
   "metadata": {
    "execution": {
     "iopub.execute_input": "2022-01-31T00:56:55.992110Z",
     "iopub.status.busy": "2022-01-31T00:56:55.991310Z",
     "iopub.status.idle": "2022-01-31T00:56:56.392932Z",
     "shell.execute_reply": "2022-01-31T00:56:56.393351Z",
     "shell.execute_reply.started": "2022-01-30T05:48:41.415403Z"
    },
    "papermill": {
     "duration": 0.481841,
     "end_time": "2022-01-31T00:56:56.393495",
     "exception": false,
     "start_time": "2022-01-31T00:56:55.911654",
     "status": "completed"
    },
    "tags": []
   },
   "outputs": [
    {
     "data": {
      "text/plain": [
       "<AxesSubplot:xlabel='alpha', ylabel='smape'>"
      ]
     },
     "execution_count": 42,
     "metadata": {},
     "output_type": "execute_result"
    },
    {
     "data": {
      "image/png": "[encoded data removed]",
      "text/plain": [
       "<Figure size 864x360 with 1 Axes>"
      ]
     },
     "metadata": {
      "needs_background": "light"
     },
     "output_type": "display_data"
    }
   ],
   "source": [
    "fig,ax= plt.subplots()\n",
    "fig.set_size_inches(12,5)\n",
    "plt.xticks(rotation=30, ha='right')\n",
    "sns.pointplot(data=df,x=\"alpha\",y=\"smape\",ax=ax)"
   ]
  },
  {
   "cell_type": "markdown",
   "id": "13f47cbf",
   "metadata": {
    "papermill": {
     "duration": 0.053803,
     "end_time": "2022-01-31T00:56:56.500814",
     "exception": false,
     "start_time": "2022-01-31T00:56:56.447011",
     "status": "completed"
    },
    "tags": []
   },
   "source": [
    "### 3. lasso"
   ]
  },
  {
   "cell_type": "code",
   "execution_count": 43,
   "id": "d3110cc9",
   "metadata": {
    "execution": {
     "iopub.execute_input": "2022-01-31T00:56:56.617573Z",
     "iopub.status.busy": "2022-01-31T00:56:56.616723Z",
     "iopub.status.idle": "2022-01-31T00:56:58.406875Z",
     "shell.execute_reply": "2022-01-31T00:56:58.407573Z",
     "shell.execute_reply.started": "2022-01-30T05:48:44.142475Z"
    },
    "papermill": {
     "duration": 1.85271,
     "end_time": "2022-01-31T00:56:58.407828",
     "exception": false,
     "start_time": "2022-01-31T00:56:56.555118",
     "status": "completed"
    },
    "tags": []
   },
   "outputs": [
    {
     "name": "stdout",
     "output_type": "stream",
     "text": [
      "{'alpha': 0.0025, 'max_iter': 3000}\n",
      "SMAPE For Lasso Regression:  13.81368358477276\n"
     ]
    },
    {
     "data": {
      "text/html": [
       "<div>\n",
       "<style scoped>\n",
       "    .dataframe tbody tr th:only-of-type {\n",
       "        vertical-align: middle;\n",
       "    }\n",
       "\n",
       "    .dataframe tbody tr th {\n",
       "        vertical-align: top;\n",
       "    }\n",
       "\n",
       "    .dataframe thead th {\n",
       "        text-align: right;\n",
       "    }\n",
       "</style>\n",
       "<table border=\"1\" class=\"dataframe\">\n",
       "  <thead>\n",
       "    <tr style=\"text-align: right;\">\n",
       "      <th></th>\n",
       "      <th>alpha</th>\n",
       "      <th>smape</th>\n",
       "    </tr>\n",
       "  </thead>\n",
       "  <tbody>\n",
       "    <tr>\n",
       "      <th>0</th>\n",
       "      <td>10.000000</td>\n",
       "      <td>9.338405</td>\n",
       "    </tr>\n",
       "    <tr>\n",
       "      <th>1</th>\n",
       "      <td>1.000000</td>\n",
       "      <td>9.338405</td>\n",
       "    </tr>\n",
       "    <tr>\n",
       "      <th>2</th>\n",
       "      <td>0.500000</td>\n",
       "      <td>9.338405</td>\n",
       "    </tr>\n",
       "    <tr>\n",
       "      <th>3</th>\n",
       "      <td>0.333333</td>\n",
       "      <td>9.338405</td>\n",
       "    </tr>\n",
       "    <tr>\n",
       "      <th>4</th>\n",
       "      <td>0.250000</td>\n",
       "      <td>9.338405</td>\n",
       "    </tr>\n",
       "  </tbody>\n",
       "</table>\n",
       "</div>"
      ],
      "text/plain": [
       "       alpha     smape\n",
       "0  10.000000  9.338405\n",
       "1   1.000000  9.338405\n",
       "2   0.500000  9.338405\n",
       "3   0.333333  9.338405\n",
       "4   0.250000  9.338405"
      ]
     },
     "execution_count": 43,
     "metadata": {},
     "output_type": "execute_result"
    }
   ],
   "source": [
    "lasso_m_ = Lasso()\n",
    "\n",
    "alpha  = 1/np.array([0.1, 1, 2, 3, 4, 10, 30,100,200,300,400,800,900,1000])\n",
    "lasso_params_ = { 'max_iter':[3000],'alpha':alpha}\n",
    "\n",
    "grid_lasso_m = GridSearchCV(lasso_m_, lasso_params_, scoring=smape_scorer, cv=5)\n",
    "y_train_log = np.log1p(y_train)\n",
    "grid_lasso_m.fit(X_train, y_train_log)\n",
    "preds_lasso = grid_lasso_m.predict(X_train)\n",
    "score = smape(np.exp(y_train_log), np.exp(preds_lasso))\n",
    "\n",
    "print (grid_lasso_m.best_params_)\n",
    "print (\"SMAPE For Lasso Regression: \", score)\n",
    "\n",
    "df = pd.DataFrame(grid_lasso_m.cv_results_)\n",
    "df[\"alpha\"] = df[\"params\"].apply(lambda x:x[\"alpha\"])\n",
    "df[\"smape\"] = df[\"mean_test_score\"].apply(lambda x:-x)\n",
    "\n",
    "df[[\"alpha\", \"smape\"]].head()"
   ]
  },
  {
   "cell_type": "code",
   "execution_count": 44,
   "id": "d302540b",
   "metadata": {
    "execution": {
     "iopub.execute_input": "2022-01-31T00:56:58.654749Z",
     "iopub.status.busy": "2022-01-31T00:56:58.652762Z",
     "iopub.status.idle": "2022-01-31T00:56:59.114954Z",
     "shell.execute_reply": "2022-01-31T00:56:59.115648Z",
     "shell.execute_reply.started": "2022-01-30T05:48:48.708099Z"
    },
    "papermill": {
     "duration": 0.566427,
     "end_time": "2022-01-31T00:56:59.115816",
     "exception": false,
     "start_time": "2022-01-31T00:56:58.549389",
     "status": "completed"
    },
    "tags": []
   },
   "outputs": [
    {
     "data": {
      "text/plain": [
       "<AxesSubplot:xlabel='alpha', ylabel='smape'>"
      ]
     },
     "execution_count": 44,
     "metadata": {},
     "output_type": "execute_result"
    },
    {
     "data": {
      "image/png": "[encoded data removed]",
      "text/plain": [
       "<Figure size 864x360 with 1 Axes>"
      ]
     },
     "metadata": {
      "needs_background": "light"
     },
     "output_type": "display_data"
    }
   ],
   "source": [
    "fig,ax= plt.subplots()\n",
    "fig.set_size_inches(12,5)\n",
    "plt.xticks(rotation=30, ha='right')\n",
    "sns.pointplot(data=df,x=\"alpha\",y=\"smape\",ax=ax)"
   ]
  },
  {
   "cell_type": "markdown",
   "id": "64a55ae9",
   "metadata": {
    "papermill": {
     "duration": 0.055585,
     "end_time": "2022-01-31T00:56:59.228343",
     "exception": false,
     "start_time": "2022-01-31T00:56:59.172758",
     "status": "completed"
    },
    "tags": []
   },
   "source": [
    "### 4. ensemble random forest"
   ]
  },
  {
   "cell_type": "code",
   "execution_count": 45,
   "id": "faba6a3d",
   "metadata": {
    "execution": {
     "iopub.execute_input": "2022-01-31T00:56:59.344000Z",
     "iopub.status.busy": "2022-01-31T00:56:59.343176Z",
     "iopub.status.idle": "2022-01-31T00:57:03.925360Z",
     "shell.execute_reply": "2022-01-31T00:57:03.925796Z",
     "shell.execute_reply.started": "2022-01-30T05:48:51.024703Z"
    },
    "papermill": {
     "duration": 4.642662,
     "end_time": "2022-01-31T00:57:03.925944",
     "exception": false,
     "start_time": "2022-01-31T00:56:59.283282",
     "status": "completed"
    },
    "tags": []
   },
   "outputs": [
    {
     "name": "stdout",
     "output_type": "stream",
     "text": [
      "SMAPE For Random Forest:  3.6196814682532197\n"
     ]
    }
   ],
   "source": [
    "from sklearn.ensemble import RandomForestRegressor\n",
    "rfModel = RandomForestRegressor(n_estimators=100)\n",
    "\n",
    "y_train_log = np.log1p(y_train)\n",
    "rfModel.fit(X_train, y_train_log)\n",
    "\n",
    "preds_rf = rfModel.predict(X_train)\n",
    "score = smape(np.exp(y_train_log), np.exp(preds_rf))\n",
    "print (\"SMAPE For Random Forest: \",score)"
   ]
  },
  {
   "cell_type": "markdown",
   "id": "a9c274fb",
   "metadata": {
    "papermill": {
     "duration": 0.05605,
     "end_time": "2022-01-31T00:57:04.038391",
     "exception": false,
     "start_time": "2022-01-31T00:57:03.982341",
     "status": "completed"
    },
    "tags": []
   },
   "source": [
    "### 5. gradient boost"
   ]
  },
  {
   "cell_type": "code",
   "execution_count": 46,
   "id": "1af17549",
   "metadata": {
    "execution": {
     "iopub.execute_input": "2022-01-31T00:57:04.156051Z",
     "iopub.status.busy": "2022-01-31T00:57:04.155152Z",
     "iopub.status.idle": "2022-01-31T00:58:02.007399Z",
     "shell.execute_reply": "2022-01-31T00:58:02.008084Z",
     "shell.execute_reply.started": "2022-01-30T05:48:55.877557Z"
    },
    "papermill": {
     "duration": 57.914237,
     "end_time": "2022-01-31T00:58:02.008295",
     "exception": false,
     "start_time": "2022-01-31T00:57:04.094058",
     "status": "completed"
    },
    "tags": []
   },
   "outputs": [
    {
     "name": "stdout",
     "output_type": "stream",
     "text": [
      "SMAPE For Gradient Boost:  8.462882256024182\n"
     ]
    }
   ],
   "source": [
    "from sklearn.ensemble import GradientBoostingRegressor\n",
    "gbm = GradientBoostingRegressor(n_estimators=4000, alpha=0.01);\n",
    "\n",
    "y_train_log = np.log1p(y_train)\n",
    "gbm.fit(X_train, y_train_log)\n",
    "\n",
    "preds_grad = gbm.predict(X_train)\n",
    "score = smape(np.exp(y_train_log), np.exp(preds_grad))\n",
    "print (\"SMAPE For Gradient Boost: \", score)"
   ]
  },
  {
   "cell_type": "code",
   "execution_count": 47,
   "id": "0220cba7",
   "metadata": {
    "execution": {
     "iopub.execute_input": "2022-01-31T00:58:02.129197Z",
     "iopub.status.busy": "2022-01-31T00:58:02.128433Z",
     "iopub.status.idle": "2022-01-31T00:58:03.090094Z",
     "shell.execute_reply": "2022-01-31T00:58:03.090620Z",
     "shell.execute_reply.started": "2022-01-30T05:49:57.503154Z"
    },
    "papermill": {
     "duration": 1.024804,
     "end_time": "2022-01-31T00:58:03.090769",
     "exception": false,
     "start_time": "2022-01-31T00:58:02.065965",
     "status": "completed"
    },
    "tags": []
   },
   "outputs": [
    {
     "data": {
      "text/plain": [
       "<AxesSubplot:ylabel='Density'>"
      ]
     },
     "execution_count": 47,
     "metadata": {},
     "output_type": "execute_result"
    },
    {
     "data": {
      "image/png": "[encoded data removed]",
      "text/plain": [
       "<Figure size 864x360 with 2 Axes>"
      ]
     },
     "metadata": {
      "needs_background": "light"
     },
     "output_type": "display_data"
    }
   ],
   "source": [
    "predsTest = gbm.predict(X_test)\n",
    "fig,(ax1,ax2)= plt.subplots(ncols=2)\n",
    "fig.set_size_inches(12,5)\n",
    "sns.distplot(y_train,ax=ax1,bins=50)\n",
    "sns.distplot(np.exp(predsTest),ax=ax2,bins=50)"
   ]
  },
  {
   "cell_type": "markdown",
   "id": "39497fc2",
   "metadata": {
    "papermill": {
     "duration": 0.057005,
     "end_time": "2022-01-31T00:58:03.204558",
     "exception": false,
     "start_time": "2022-01-31T00:58:03.147553",
     "status": "completed"
    },
    "tags": []
   },
   "source": [
    "## Submit"
   ]
  },
  {
   "cell_type": "code",
   "execution_count": 48,
   "id": "1221f9b2",
   "metadata": {
    "execution": {
     "iopub.execute_input": "2022-01-31T00:58:03.323160Z",
     "iopub.status.busy": "2022-01-31T00:58:03.322634Z",
     "iopub.status.idle": "2022-01-31T00:58:03.338218Z",
     "shell.execute_reply": "2022-01-31T00:58:03.338579Z",
     "shell.execute_reply.started": "2022-01-30T05:49:58.521386Z"
    },
    "papermill": {
     "duration": 0.076622,
     "end_time": "2022-01-31T00:58:03.338730",
     "exception": false,
     "start_time": "2022-01-31T00:58:03.262108",
     "status": "completed"
    },
    "tags": []
   },
   "outputs": [
    {
     "data": {
      "text/html": [
       "<div>\n",
       "<style scoped>\n",
       "    .dataframe tbody tr th:only-of-type {\n",
       "        vertical-align: middle;\n",
       "    }\n",
       "\n",
       "    .dataframe tbody tr th {\n",
       "        vertical-align: top;\n",
       "    }\n",
       "\n",
       "    .dataframe thead th {\n",
       "        text-align: right;\n",
       "    }\n",
       "</style>\n",
       "<table border=\"1\" class=\"dataframe\">\n",
       "  <thead>\n",
       "    <tr style=\"text-align: right;\">\n",
       "      <th></th>\n",
       "      <th>row_id</th>\n",
       "      <th>num_sold</th>\n",
       "    </tr>\n",
       "  </thead>\n",
       "  <tbody>\n",
       "    <tr>\n",
       "      <th>0</th>\n",
       "      <td>26298</td>\n",
       "      <td>100</td>\n",
       "    </tr>\n",
       "    <tr>\n",
       "      <th>1</th>\n",
       "      <td>26299</td>\n",
       "      <td>100</td>\n",
       "    </tr>\n",
       "    <tr>\n",
       "      <th>2</th>\n",
       "      <td>26300</td>\n",
       "      <td>100</td>\n",
       "    </tr>\n",
       "    <tr>\n",
       "      <th>3</th>\n",
       "      <td>26301</td>\n",
       "      <td>100</td>\n",
       "    </tr>\n",
       "    <tr>\n",
       "      <th>4</th>\n",
       "      <td>26302</td>\n",
       "      <td>100</td>\n",
       "    </tr>\n",
       "  </tbody>\n",
       "</table>\n",
       "</div>"
      ],
      "text/plain": [
       "   row_id  num_sold\n",
       "0   26298       100\n",
       "1   26299       100\n",
       "2   26300       100\n",
       "3   26301       100\n",
       "4   26302       100"
      ]
     },
     "execution_count": 48,
     "metadata": {},
     "output_type": "execute_result"
    }
   ],
   "source": [
    "submission = pd.read_csv(\"/kaggle/input/tabular-playground-series-jan-2022/sample_submission.csv\")\n",
    "submission.head()"
   ]
  },
  {
   "cell_type": "code",
   "execution_count": 49,
   "id": "ea0a3ba5",
   "metadata": {
    "execution": {
     "iopub.execute_input": "2022-01-31T00:58:03.459638Z",
     "iopub.status.busy": "2022-01-31T00:58:03.458584Z",
     "iopub.status.idle": "2022-01-31T00:58:03.468379Z",
     "shell.execute_reply": "2022-01-31T00:58:03.467873Z",
     "shell.execute_reply.started": "2022-01-30T05:50:02.846781Z"
    },
    "papermill": {
     "duration": 0.072604,
     "end_time": "2022-01-31T00:58:03.468488",
     "exception": false,
     "start_time": "2022-01-31T00:58:03.395884",
     "status": "completed"
    },
    "tags": []
   },
   "outputs": [
    {
     "data": {
      "text/html": [
       "<div>\n",
       "<style scoped>\n",
       "    .dataframe tbody tr th:only-of-type {\n",
       "        vertical-align: middle;\n",
       "    }\n",
       "\n",
       "    .dataframe tbody tr th {\n",
       "        vertical-align: top;\n",
       "    }\n",
       "\n",
       "    .dataframe thead th {\n",
       "        text-align: right;\n",
       "    }\n",
       "</style>\n",
       "<table border=\"1\" class=\"dataframe\">\n",
       "  <thead>\n",
       "    <tr style=\"text-align: right;\">\n",
       "      <th></th>\n",
       "      <th>row_id</th>\n",
       "      <th>num_sold</th>\n",
       "    </tr>\n",
       "  </thead>\n",
       "  <tbody>\n",
       "    <tr>\n",
       "      <th>0</th>\n",
       "      <td>26298</td>\n",
       "      <td>393.0</td>\n",
       "    </tr>\n",
       "    <tr>\n",
       "      <th>1</th>\n",
       "      <td>26299</td>\n",
       "      <td>541.0</td>\n",
       "    </tr>\n",
       "    <tr>\n",
       "      <th>2</th>\n",
       "      <td>26300</td>\n",
       "      <td>159.0</td>\n",
       "    </tr>\n",
       "    <tr>\n",
       "      <th>3</th>\n",
       "      <td>26301</td>\n",
       "      <td>671.0</td>\n",
       "    </tr>\n",
       "    <tr>\n",
       "      <th>4</th>\n",
       "      <td>26302</td>\n",
       "      <td>977.0</td>\n",
       "    </tr>\n",
       "  </tbody>\n",
       "</table>\n",
       "</div>"
      ],
      "text/plain": [
       "   row_id  num_sold\n",
       "0   26298     393.0\n",
       "1   26299     541.0\n",
       "2   26300     159.0\n",
       "3   26301     671.0\n",
       "4   26302     977.0"
      ]
     },
     "execution_count": 49,
     "metadata": {},
     "output_type": "execute_result"
    }
   ],
   "source": [
    "submission[\"num_sold\"] = np.round(predictions)\n",
    "submission.head()"
   ]
  },
  {
   "cell_type": "code",
   "execution_count": 50,
   "id": "f2d14b3b",
   "metadata": {
    "execution": {
     "iopub.execute_input": "2022-01-31T00:58:03.590019Z",
     "iopub.status.busy": "2022-01-31T00:58:03.589405Z",
     "iopub.status.idle": "2022-01-31T00:58:03.608641Z",
     "shell.execute_reply": "2022-01-31T00:58:03.608201Z",
     "shell.execute_reply.started": "2022-01-30T05:50:06.524060Z"
    },
    "papermill": {
     "duration": 0.080085,
     "end_time": "2022-01-31T00:58:03.608748",
     "exception": false,
     "start_time": "2022-01-31T00:58:03.528663",
     "status": "completed"
    },
    "tags": []
   },
   "outputs": [],
   "source": [
    "submission.to_csv(\"./Score_{0:.5f}_submission.csv\".format(score), index=False)"
   ]
  },
  {
   "cell_type": "code",
   "execution_count": null,
   "id": "8fccbd48",
   "metadata": {
    "papermill": {
     "duration": 0.058024,
     "end_time": "2022-01-31T00:58:03.723906",
     "exception": false,
     "start_time": "2022-01-31T00:58:03.665882",
     "status": "completed"
    },
    "tags": []
   },
   "outputs": [],
   "source": []
  }
 ],
 "metadata": {
  "kernelspec": {
   "display_name": "Python 3",
   "language": "python",
   "name": "python3"
  },
  "language_info": {
   "codemirror_mode": {
    "name": "ipython",
    "version": 3
   },
   "file_extension": ".py",
   "mimetype": "text/x-python",
   "name": "python",
   "nbconvert_exporter": "python",
   "pygments_lexer": "ipython3",
   "version": "3.7.12"
  },
  "papermill": {
   "default_parameters": {},
   "duration": 130.740654,
   "end_time": "2022-01-31T00:58:04.391248",
   "environment_variables": {},
   "exception": null,
   "input_path": "__notebook__.ipynb",
   "output_path": "__notebook__.ipynb",
   "parameters": {},
   "start_time": "2022-01-31T00:55:53.650594",
   "version": "2.3.3"
  }
 },
 "nbformat": 4,
 "nbformat_minor": 5
}
